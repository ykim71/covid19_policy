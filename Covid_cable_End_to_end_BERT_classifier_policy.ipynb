{
  "cells": [
    {
      "cell_type": "markdown",
      "metadata": {
        "id": "view-in-github",
        "colab_type": "text"
      },
      "source": [
        "<a href=\"https://colab.research.google.com/github/ykim71/covid19_policy/blob/main/Covid_cable_End_to_end_BERT_classifier_policy.ipynb\" target=\"_parent\"><img src=\"https://colab.research.google.com/assets/colab-badge.svg\" alt=\"Open In Colab\"/></a>"
      ]
    },
    {
      "cell_type": "markdown",
      "metadata": {
        "id": "RB6g_s5SW6mm"
      },
      "source": [
        "# Essentially a copy of [this Colab NB](https://colab.research.google.com/drive/1pTuQhug6Dhl9XalKB0zUGf4FIdYFlpcX?usp=sharing) from Chris McCormick and Nick Ryan"
      ]
    },
    {
      "cell_type": "markdown",
      "source": [
        "## Connect to Gdrive "
      ],
      "metadata": {
        "id": "ch_loxv1NyGn"
      }
    },
    {
      "cell_type": "code",
      "execution_count": null,
      "metadata": {
        "colab": {
          "base_uri": "https://localhost:8080/",
          "height": 124
        },
        "id": "pV3g2P890C4m",
        "outputId": "4f3e21d0-ed2f-4e3c-8ea6-88691c0156f8"
      },
      "outputs": [
        {
          "ename": "ModuleNotFoundError",
          "evalue": "No module named 'google.colab'",
          "output_type": "error",
          "traceback": [
            "\u001b[0;31m---------------------------------------------------------------------------\u001b[0m",
            "\u001b[0;31mModuleNotFoundError\u001b[0m                       Traceback (most recent call last)",
            "\u001b[0;32m<ipython-input-1-2fffe05cb118>\u001b[0m in \u001b[0;36m<module>\u001b[0;34m\u001b[0m\n\u001b[0;32m----> 1\u001b[0;31m \u001b[0;32mfrom\u001b[0m \u001b[0mgoogle\u001b[0m\u001b[0;34m.\u001b[0m\u001b[0mcolab\u001b[0m \u001b[0;32mimport\u001b[0m \u001b[0mdrive\u001b[0m\u001b[0;34m\u001b[0m\u001b[0;34m\u001b[0m\u001b[0m\n\u001b[0m\u001b[1;32m      2\u001b[0m \u001b[0;34m\u001b[0m\u001b[0m\n\u001b[1;32m      3\u001b[0m \u001b[0mdrive\u001b[0m\u001b[0;34m.\u001b[0m\u001b[0mmount\u001b[0m\u001b[0;34m(\u001b[0m\u001b[0;34m\"/content/drive\"\u001b[0m\u001b[0;34m,\u001b[0m \u001b[0mforce_remount\u001b[0m\u001b[0;34m=\u001b[0m\u001b[0;32mTrue\u001b[0m\u001b[0;34m)\u001b[0m\u001b[0;34m\u001b[0m\u001b[0;34m\u001b[0m\u001b[0m\n",
            "\u001b[0;31mModuleNotFoundError\u001b[0m: No module named 'google.colab'"
          ]
        }
      ],
      "source": [
        "from google.colab import drive\n",
        "\n",
        "drive.mount(\"/content/drive\", force_remount=True)"
      ]
    },
    {
      "cell_type": "code",
      "execution_count": null,
      "metadata": {
        "colab": {
          "base_uri": "https://localhost:8080/",
          "height": 34
        },
        "id": "s81sCY0B0D5A",
        "outputId": "f9d58a2c-2bb0-4301-ea62-e8c6a7f0cacf"
      },
      "outputs": [
        {
          "name": "stdout",
          "output_type": "stream",
          "text": [
            "[Errno 2] No such file or directory: 'drive/My Drive/covid_cable/'\n",
            "/Users/yujinkim/Google Drive/CME/cablenews_covid/bert_policy_covid\n"
          ]
        }
      ],
      "source": [
        "%cd drive/'My Drive'/covid_cable/"
      ]
    },
    {
      "cell_type": "markdown",
      "source": [
        "## GPU setting"
      ],
      "metadata": {
        "id": "rtFU6T9VQb0y"
      }
    },
    {
      "cell_type": "code",
      "source": [
        "import torch\n",
        "\n",
        "# If there's a GPU available...\n",
        "if torch.cuda.is_available():    \n",
        "\n",
        "    # Tell PyTorch to use the GPU.    \n",
        "    device = torch.device(\"cuda\")\n",
        "\n",
        "    print('There are %d GPU(s) available.' % torch.cuda.device_count())\n",
        "\n",
        "    print('We will use the GPU:', torch.cuda.get_device_name(0))\n",
        "\n",
        "# If not...\n",
        "else:\n",
        "    print('No GPU available, using the CPU instead.')\n",
        "    device = torch.device(\"cpu\")"
      ],
      "metadata": {
        "id": "0tkvtnQHQYRr"
      },
      "execution_count": null,
      "outputs": []
    },
    {
      "cell_type": "markdown",
      "source": [
        "## Prep for Data \n",
        "\n",
        "\n",
        "> Making balance dataset by months\n",
        "\n",
        "\n",
        "> can skip this and start from 'Spliting data'\n",
        "\n",
        "\n",
        "\n"
      ],
      "metadata": {
        "id": "GaUjfbb-N56E"
      }
    },
    {
      "cell_type": "code",
      "execution_count": null,
      "metadata": {
        "id": "Plm8MnLnzYBO"
      },
      "outputs": [],
      "source": [
        "import pandas as pd\n",
        "import numpy as np\n"
      ]
    },
    {
      "cell_type": "code",
      "execution_count": null,
      "metadata": {
        "id": "YJOtkC1JKB9l",
        "outputId": "64f85e8b-0871-435f-e941-74eec7a24338"
      },
      "outputs": [
        {
          "name": "stdout",
          "output_type": "stream",
          "text": [
            "1.0    502\n",
            "0.0    128\n",
            "Name: label, dtype: int64\n",
            "1.0    552\n",
            "0.0    122\n",
            "Name: label, dtype: int64\n"
          ]
        }
      ],
      "source": [
        "\n",
        "MARCH_NP = pd.read_excel('2020-03-23-Newspaper.xlsx', sheet_name=\"2020-03-24-06-49-29-CDT-Histori\")\n",
        "MARCH_TV = pd.read_excel('2020-03-23-Television.xlsx', sheet_name=\"2020-03-24-06-49-29-CDT-Histori\")\n",
        "\n",
        "cols = ['Message', 'Link Text', 'Description']\n",
        "\n",
        "MARCH_NP['sentence'] = MARCH_NP[cols].apply(\n",
        "    lambda x: ' '.join(x.dropna().astype(str)),\n",
        "    axis=1\n",
        ")\n",
        "MARCH_NP['label'] = MARCH_NP['COVID']\n",
        "print(MARCH_NP['label'].value_counts())\n",
        "\n",
        "MARCH_TV['sentence'] = MARCH_TV[cols].apply(\n",
        "    lambda x: ' '.join(x.dropna().astype(str)),\n",
        "    axis=1\n",
        ")\n",
        "MARCH_TV['label'] = MARCH_TV['COVID']\n",
        "print(MARCH_TV['label'].value_counts())\n"
      ]
    },
    {
      "cell_type": "code",
      "execution_count": null,
      "metadata": {
        "id": "tKpsFqa4KB9m",
        "outputId": "d7917ba5-6829-48c7-95ce-d7441c6376fa"
      },
      "outputs": [
        {
          "name": "stdout",
          "output_type": "stream",
          "text": [
            "1.0    721\n",
            "0.0    345\n",
            "Name: label, dtype: int64\n",
            "1.0    947\n",
            "0.0    422\n",
            "Name: label, dtype: int64\n"
          ]
        }
      ],
      "source": [
        "APR_NP = pd.read_excel('Covid_Newspaper_April_20.xlsx', sheet_name=\"2020-04-21-12-28-12-CDT-Histori\")\n",
        "APR_TV = pd.read_excel('Covid_TV_April_20.xlsx', sheet_name=\"2020-04-21-12-29-09-CDT-Histori\")\n",
        "\n",
        "APR_NP['sentence'] = APR_NP[cols].apply(\n",
        "    lambda x: ' '.join(x.dropna().astype(str)),\n",
        "    axis=1\n",
        ")\n",
        "APR_NP['label'] = APR_NP['Covid']\n",
        "print(APR_NP['label'].value_counts())\n",
        "\n",
        "APR_TV['sentence'] = APR_TV[cols].apply(\n",
        "    lambda x: ' '.join(x.dropna().astype(str)),\n",
        "    axis=1\n",
        ")\n",
        "APR_TV['label'] = APR_TV['Covid']\n",
        "print(APR_TV['label'].value_counts())\n"
      ]
    },
    {
      "cell_type": "code",
      "execution_count": null,
      "metadata": {
        "id": "LkKg2YzsKB9n",
        "outputId": "04df8056-6b2d-4f31-8667-4f8a4f29e458"
      },
      "outputs": [
        {
          "name": "stdout",
          "output_type": "stream",
          "text": [
            "0    789\n",
            "1    462\n",
            "Name: label, dtype: int64\n",
            "0.0    1134\n",
            "1.0     546\n",
            "Name: label, dtype: int64\n"
          ]
        }
      ],
      "source": [
        "JUNE_NP = pd.read_excel('JuneNP_full.xlsx', sheet_name=\"Sheet1\")\n",
        "JUNE_TV = pd.read_excel('JuneTVFullsample.xlsx', sheet_name=\"Sheet1\")\n",
        "\n",
        "JUNE_NP['sentence'] = JUNE_NP[cols].apply(\n",
        "    lambda x: ' '.join(x.dropna().astype(str)),\n",
        "    axis=1\n",
        ")\n",
        "JUNE_NP['label'] = JUNE_NP['Covid']\n",
        "print(JUNE_NP['label'].value_counts())\n",
        "\n",
        "JUNE_TV['sentence'] = JUNE_TV[cols].apply(\n",
        "    lambda x: ' '.join(x.dropna().astype(str)),\n",
        "    axis=1\n",
        ")\n",
        "JUNE_TV['label'] = JUNE_TV['Covid']\n",
        "print(JUNE_TV['label'].value_counts())\n"
      ]
    },
    {
      "cell_type": "code",
      "execution_count": null,
      "metadata": {
        "id": "7Rzx4_4YKB9p"
      },
      "outputs": [],
      "source": [
        "cols2 = ['message', 'linktext', 'description']\n"
      ]
    },
    {
      "cell_type": "code",
      "execution_count": null,
      "metadata": {
        "id": "d8Q_1LuwKB9q",
        "outputId": "c0a825fb-d16c-428d-c09f-f69554b6f5da"
      },
      "outputs": [
        {
          "name": "stdout",
          "output_type": "stream",
          "text": [
            "0    69\n",
            "1    31\n",
            "Name: label, dtype: int64\n"
          ]
        }
      ],
      "source": [
        "JULY = pd.read_excel('June_October_COVID450.xlsx', sheet_name=\"July(Jay)\")\n",
        "\n",
        "JULY['sentence'] = JULY[cols2].apply(\n",
        "    lambda x: ' '.join(x.dropna().astype(str)),\n",
        "    axis=1\n",
        ")\n",
        "JULY['label'] = JULY['COVID (1 = Yes, 0 = No)']\n",
        "JULY['Created'] = JULY['created']\n",
        "print(JULY['label'].value_counts())\n"
      ]
    },
    {
      "cell_type": "code",
      "execution_count": null,
      "metadata": {
        "id": "ZMYpXOI1KB9r",
        "outputId": "b125c5b0-a195-4a4b-d19b-40a1e9ed8b74"
      },
      "outputs": [
        {
          "name": "stdout",
          "output_type": "stream",
          "text": [
            "0    64\n",
            "1    36\n",
            "Name: label, dtype: int64\n"
          ]
        }
      ],
      "source": [
        "AUG = pd.read_excel('June_October_COVID450.xlsx', sheet_name=\"August(Jessica)\")\n",
        "\n",
        "AUG['sentence'] = AUG[cols2].apply(\n",
        "    lambda x: ' '.join(x.dropna().astype(str)),\n",
        "    axis=1\n",
        ")\n",
        "AUG['label'] = AUG['COVID (1 = Yes, 0 = No)']\n",
        "AUG['Created'] = AUG['created']\n",
        "print(AUG['label'].value_counts())\n"
      ]
    },
    {
      "cell_type": "code",
      "execution_count": null,
      "metadata": {
        "id": "Z5CKJss6KB9r",
        "outputId": "48e902ca-cf32-4212-a1c5-e33a7189bed9"
      },
      "outputs": [
        {
          "name": "stdout",
          "output_type": "stream",
          "text": [
            "0    135\n",
            "1     50\n",
            "Name: label, dtype: int64\n"
          ]
        }
      ],
      "source": [
        "AUG2 = pd.read_excel('AugSeptOct_COVID_600.xlsx', sheet_name=\"August(Ashley)\")\n",
        "\n",
        "AUG2['sentence'] = AUG2[cols2].apply(\n",
        "    lambda x: ' '.join(x.dropna().astype(str)),\n",
        "    axis=1\n",
        ")\n",
        "AUG2['label'] = AUG2['covid']\n",
        "AUG2['Created'] = AUG2['created']\n",
        "print(AUG2['label'].value_counts())\n"
      ]
    },
    {
      "cell_type": "code",
      "execution_count": null,
      "metadata": {
        "id": "isO6X9AAKB9s",
        "outputId": "dad13b12-7116-445a-aae9-cd40c44f0ba1"
      },
      "outputs": [
        {
          "name": "stdout",
          "output_type": "stream",
          "text": [
            "0    72\n",
            "1    28\n",
            "Name: label, dtype: int64\n"
          ]
        }
      ],
      "source": [
        "SEP = pd.read_excel('June_October_COVID450.xlsx', sheet_name=\"September(Jay)\")\n",
        "\n",
        "SEP['sentence'] = SEP[cols2].apply(\n",
        "    lambda x: ' '.join(x.dropna().astype(str)),\n",
        "    axis=1\n",
        ")\n",
        "SEP['label'] = SEP['COVID (1 = Yes, 0 = No)']\n",
        "SEP['Created'] = SEP['created']\n",
        "print(SEP['label'].value_counts())\n"
      ]
    },
    {
      "cell_type": "code",
      "execution_count": null,
      "metadata": {
        "id": "6C-CMn1fKB9s",
        "outputId": "573c908a-3204-4831-a0d9-f1f5539b447c"
      },
      "outputs": [
        {
          "name": "stdout",
          "output_type": "stream",
          "text": [
            "0    142\n",
            "1     43\n",
            "Name: label, dtype: int64\n"
          ]
        }
      ],
      "source": [
        "SEP2 = pd.read_excel('AugSeptOct_COVID_600.xlsx', sheet_name=\"September(Jessica)\")\n",
        "\n",
        "SEP2['sentence'] = SEP2[cols2].apply(\n",
        "    lambda x: ' '.join(x.dropna().astype(str)),\n",
        "    axis=1\n",
        ")\n",
        "SEP2['label'] = SEP2['covid']\n",
        "SEP2['Created'] = SEP2['created']\n",
        "print(SEP2['label'].value_counts())\n"
      ]
    },
    {
      "cell_type": "code",
      "execution_count": null,
      "metadata": {
        "id": "xv9JPLBNKB9t",
        "outputId": "a19f5b4b-4163-4197-8aad-b900e13f0085"
      },
      "outputs": [
        {
          "name": "stdout",
          "output_type": "stream",
          "text": [
            "0    72\n",
            "1    28\n",
            "Name: label, dtype: int64\n"
          ]
        }
      ],
      "source": [
        "OCT = pd.read_excel('June_October_COVID450.xlsx', sheet_name=\"October(Jessica)\")\n",
        "\n",
        "OCT['sentence'] = OCT[cols2].apply(\n",
        "    lambda x: ' '.join(x.dropna().astype(str)),\n",
        "    axis=1\n",
        ")\n",
        "OCT['label'] = OCT['COVID (1 = Yes, 0 = No)']\n",
        "OCT['Created'] = OCT['created']\n",
        "print(OCT['label'].value_counts())\n"
      ]
    },
    {
      "cell_type": "code",
      "execution_count": null,
      "metadata": {
        "id": "Gwxr3QzlKB9u",
        "outputId": "ec65c042-6cd0-4a63-dbd5-20d46c852c72"
      },
      "outputs": [
        {
          "name": "stdout",
          "output_type": "stream",
          "text": [
            "0    173\n",
            "1     57\n",
            "Name: label, dtype: int64\n"
          ]
        }
      ],
      "source": [
        "OCT2 = pd.read_excel('AugSeptOct_COVID_600.xlsx', sheet_name=\"October(Jay)\")\n",
        "\n",
        "OCT2['sentence'] = OCT2[cols2].apply(\n",
        "    lambda x: ' '.join(x.dropna().astype(str)),\n",
        "    axis=1\n",
        ")\n",
        "OCT2['label'] = OCT2['Covid']\n",
        "OCT2['Created'] = OCT2['created']\n",
        "print(OCT2['label'].value_counts())\n"
      ]
    },
    {
      "cell_type": "code",
      "execution_count": null,
      "metadata": {
        "id": "jXcUq5jYKB9u",
        "outputId": "fc409784-1859-45dc-8a7a-53a414c1e2f3"
      },
      "outputs": [
        {
          "name": "stdout",
          "output_type": "stream",
          "text": [
            "0    37\n",
            "1    13\n",
            "Name: label, dtype: int64\n"
          ]
        }
      ],
      "source": [
        "OCT3 = pd.read_excel('AugSeptOct_COVID_600.xlsx', sheet_name=\"ReliabilitySet\")\n",
        "\n",
        "OCT3['sentence'] = OCT3[cols2].apply(\n",
        "    lambda x: ' '.join(x.dropna().astype(str)),\n",
        "    axis=1\n",
        ")\n",
        "OCT3['label'] = OCT3['Ashley']\n",
        "OCT3['Created'] = OCT3['created']\n",
        "print(OCT3['label'].value_counts())\n"
      ]
    },
    {
      "cell_type": "code",
      "execution_count": null,
      "metadata": {
        "id": "AFlB2rJBKB9u",
        "outputId": "6380c737-04ec-4a8a-f97f-0078003dcef5"
      },
      "outputs": [
        {
          "name": "stdout",
          "output_type": "stream",
          "text": [
            "0    125\n",
            "1     55\n",
            "Name: label, dtype: int64\n"
          ]
        }
      ],
      "source": [
        "Sept_Oct1 = pd.read_excel('COVIDCoding_Sept_Oct600.xlsx', sheet_name=\"Ashley\")\n",
        "\n",
        "Sept_Oct1['sentence'] = Sept_Oct1[cols2].apply(\n",
        "    lambda x: ' '.join(x.dropna().astype(str)),\n",
        "    axis=1\n",
        ")\n",
        "Sept_Oct1['label'] = Sept_Oct1['covid']\n",
        "Sept_Oct1['Created'] = Sept_Oct1['created']\n",
        "print(Sept_Oct1['label'].value_counts())\n"
      ]
    },
    {
      "cell_type": "code",
      "execution_count": null,
      "metadata": {
        "id": "A8u8nG_kKB9v",
        "outputId": "efa669d1-2532-4db1-9941-79be4a9ee363"
      },
      "outputs": [
        {
          "name": "stdout",
          "output_type": "stream",
          "text": [
            "0    135\n",
            "1     45\n",
            "Name: label, dtype: int64\n"
          ]
        }
      ],
      "source": [
        "Sept_Oct2 = pd.read_excel('COVIDCoding_Sept_Oct600.xlsx', sheet_name=\"Jessica\")\n",
        "\n",
        "Sept_Oct2['sentence'] = Sept_Oct2[cols2].apply(\n",
        "    lambda x: ' '.join(x.dropna().astype(str)),\n",
        "    axis=1\n",
        ")\n",
        "Sept_Oct2['label'] = Sept_Oct2['covid']\n",
        "Sept_Oct2['Created'] = Sept_Oct2['created']\n",
        "print(Sept_Oct2['label'].value_counts())\n"
      ]
    },
    {
      "cell_type": "code",
      "execution_count": null,
      "metadata": {
        "id": "i5RPXUE0KB9v",
        "outputId": "2cc78907-8a7d-42ff-d683-04087a370ea4"
      },
      "outputs": [
        {
          "name": "stdout",
          "output_type": "stream",
          "text": [
            "0    136\n",
            "1     44\n",
            "Name: label, dtype: int64\n"
          ]
        }
      ],
      "source": [
        "Sept_Oct3 = pd.read_excel('COVIDCoding_Sept_Oct600.xlsx', sheet_name=\"Jay\")\n",
        "\n",
        "Sept_Oct3['sentence'] = Sept_Oct3[cols2].apply(\n",
        "    lambda x: ' '.join(x.dropna().astype(str)),\n",
        "    axis=1\n",
        ")\n",
        "Sept_Oct3['label'] = Sept_Oct3['Covid?']\n",
        "Sept_Oct3['Created'] = Sept_Oct3['created']\n",
        "print(Sept_Oct3['label'].value_counts())\n"
      ]
    },
    {
      "cell_type": "code",
      "execution_count": null,
      "metadata": {
        "id": "TATbO14sKB9v",
        "outputId": "9f0a7eeb-0792-450f-f84e-ac5e68814bdc"
      },
      "outputs": [
        {
          "name": "stdout",
          "output_type": "stream",
          "text": [
            "0    41\n",
            "1    19\n",
            "Name: label, dtype: int64\n"
          ]
        }
      ],
      "source": [
        "Sept_Oct4 = pd.read_excel('COVIDCoding_Sept_Oct600.xlsx', sheet_name=\"ReliabilitySet\")\n",
        "\n",
        "Sept_Oct4['sentence'] = Sept_Oct4[cols2].apply(\n",
        "    lambda x: ' '.join(x.dropna().astype(str)),\n",
        "    axis=1\n",
        ")\n",
        "Sept_Oct4['label'] = Sept_Oct4['Ashley']\n",
        "Sept_Oct4['Created'] = Sept_Oct4['created']\n",
        "print(Sept_Oct4['label'].value_counts())\n"
      ]
    },
    {
      "cell_type": "code",
      "execution_count": null,
      "metadata": {
        "id": "PvHySK1PKB9w",
        "outputId": "1dbd4402-f361-44f0-c02e-0907a4e2963b"
      },
      "outputs": [
        {
          "name": "stdout",
          "output_type": "stream",
          "text": [
            "0    271\n",
            "1     84\n",
            "Name: label, dtype: int64\n"
          ]
        }
      ],
      "source": [
        "Aug_Sept_Oct1 = pd.read_excel('Aug_Sept_Oct_COVID_700.xlsx', sheet_name=\"Jessica\")\n",
        "\n",
        "Aug_Sept_Oct1['sentence'] = Aug_Sept_Oct1[cols2].apply(\n",
        "    lambda x: ' '.join(x.dropna().astype(str)),\n",
        "    axis=1\n",
        ")\n",
        "Aug_Sept_Oct1['label'] = Aug_Sept_Oct1['covid']\n",
        "Aug_Sept_Oct1['Created'] = Aug_Sept_Oct1['created']\n",
        "print(Aug_Sept_Oct1['label'].value_counts())\n"
      ]
    },
    {
      "cell_type": "code",
      "execution_count": null,
      "metadata": {
        "id": "gwfpPbQGKB9w",
        "outputId": "fb5bf800-4c72-4472-c2f9-7fff851d057e"
      },
      "outputs": [
        {
          "name": "stdout",
          "output_type": "stream",
          "text": [
            "0    240\n",
            "1    115\n",
            "Name: label, dtype: int64\n"
          ]
        }
      ],
      "source": [
        "Aug_Sept_Oct2 = pd.read_excel('Aug_Sept_Oct_COVID_700.xlsx', sheet_name=\"Jay\")\n",
        "\n",
        "Aug_Sept_Oct2['sentence'] = Aug_Sept_Oct2[cols2].apply(\n",
        "    lambda x: ' '.join(x.dropna().astype(str)),\n",
        "    axis=1\n",
        ")\n",
        "Aug_Sept_Oct2['label'] = Aug_Sept_Oct2['covid']\n",
        "Aug_Sept_Oct2['Created'] = Aug_Sept_Oct2['created']\n",
        "print(Aug_Sept_Oct2['label'].value_counts())\n"
      ]
    },
    {
      "cell_type": "code",
      "execution_count": null,
      "metadata": {
        "id": "jl4ILRKZKB9w",
        "outputId": "1bcf8908-4607-4462-f27f-855de5d31b4f"
      },
      "outputs": [
        {
          "name": "stdout",
          "output_type": "stream",
          "text": [
            "0    40\n",
            "1    10\n",
            "Name: label, dtype: int64\n"
          ]
        }
      ],
      "source": [
        "Aug_Sept_Oct3 = pd.read_excel('Aug_Sept_Oct_COVID_700.xlsx', sheet_name=\"Reliability\")\n",
        "\n",
        "Aug_Sept_Oct3['sentence'] = Aug_Sept_Oct3[cols2].apply(\n",
        "    lambda x: ' '.join(x.dropna().astype(str)),\n",
        "    axis=1\n",
        ")\n",
        "Aug_Sept_Oct3['label'] = Aug_Sept_Oct3['Jessica']\n",
        "Aug_Sept_Oct3['Created'] = Aug_Sept_Oct3['created']\n",
        "print(Aug_Sept_Oct3['label'].value_counts())\n"
      ]
    },
    {
      "cell_type": "code",
      "execution_count": null,
      "metadata": {
        "id": "lyxuYa2MKB9x"
      },
      "outputs": [],
      "source": [
        "MARCH_NP = MARCH_NP[[\"Created\", \"sentence\", \"label\"]] \n",
        "MARCH_TV = MARCH_TV[[\"Created\", \"sentence\", \"label\"]] \n",
        "APR_NP = APR_NP[[\"Created\", \"sentence\", \"label\"]] \n",
        "APR_TV = APR_TV[[\"Created\", \"sentence\", \"label\"]] \n",
        "JUNE_NP = JUNE_NP[[\"Created\", \"sentence\", \"label\"]] \n",
        "JUNE_TV = JUNE_TV[[\"Created\", \"sentence\", \"label\"]] \n",
        "\n",
        "JULY = JULY[[\"Created\", \"sentence\", \"label\"]] \n",
        "AUG = AUG[[\"Created\", \"sentence\", \"label\"]] \n",
        "SEP = SEP[[\"Created\", \"sentence\", \"label\"]] \n",
        "OCT = OCT[[\"Created\", \"sentence\", \"label\"]] \n",
        "\n",
        "AUG2 = AUG2[[\"Created\", \"sentence\", \"label\"]] \n",
        "SEP2 = SEP2[[\"Created\", \"sentence\", \"label\"]] \n",
        "OCT2 = OCT2[[\"Created\", \"sentence\", \"label\"]] \n",
        "OCT3 = OCT3[[\"Created\", \"sentence\", \"label\"]] \n",
        "\n",
        "Sept_Oct1 = Sept_Oct1[[\"Created\", \"sentence\", \"label\"]] \n",
        "Sept_Oct2 = Sept_Oct2[[\"Created\", \"sentence\", \"label\"]] \n",
        "Sept_Oct3 = Sept_Oct3[[\"Created\", \"sentence\", \"label\"]] \n",
        "Sept_Oct4 = Sept_Oct4[[\"Created\", \"sentence\", \"label\"]] \n",
        "\n",
        "\n",
        "Aug_Sept_Oct1 = Aug_Sept_Oct1[[\"Created\", \"sentence\", \"label\"]] \n",
        "Aug_Sept_Oct2 = Aug_Sept_Oct2[[\"Created\", \"sentence\", \"label\"]] \n",
        "Aug_Sept_Oct3 = Aug_Sept_Oct3[[\"Created\", \"sentence\", \"label\"]] \n"
      ]
    },
    {
      "cell_type": "code",
      "execution_count": null,
      "metadata": {
        "id": "6SsEpwKUKB9x"
      },
      "outputs": [],
      "source": [
        "JUNE_NP = JUNE_NP.assign(category=\"JUNE_NP\")\n",
        "JUNE_TV = JUNE_TV.assign(category=\"JUNE_TV\")\n",
        "\n",
        "MARCH_NP = MARCH_NP.assign(category=\"MARCH_NP\")\n",
        "MARCH_TV = MARCH_TV.assign(category=\"MARCH_TV\")\n",
        "\n",
        "JULY = JULY.assign(category=\"JULY\")\n",
        "\n",
        "AUG = AUG.assign(category=\"AUG\")\n",
        "SEP = SEP.assign(category=\"SEP\")\n",
        "OCT = OCT.assign(category=\"OCT\")\n",
        "\n",
        "AUG2 = AUG2.assign(category=\"AUG\")\n",
        "SEP2 = SEP2.assign(category=\"SEP\")\n",
        "OCT2 = OCT2.assign(category=\"OCT\")\n",
        "OCT3 = OCT3.assign(category=\"OCT\")\n",
        "\n",
        "APR_NP = APR_NP.assign(category=\"APR_NP\")\n",
        "APR_TV = APR_TV.assign(category=\"APR_TV\")\n",
        "\n",
        "\n",
        "Sept_Oct1 = Sept_Oct1.assign(category=\"Sept_Oct\")\n",
        "Sept_Oct2 = Sept_Oct2.assign(category=\"Sept_Oct\")\n",
        "Sept_Oct3 = Sept_Oct3.assign(category=\"Sept_Oct\")\n",
        "Sept_Oct4 = Sept_Oct4.assign(category=\"Sept_Oct\")\n",
        "\n",
        "Aug_Sept_Oct1 = Aug_Sept_Oct1.assign(category=\"Aug_Sept_Oct\")\n",
        "Aug_Sept_Oct2 = Aug_Sept_Oct2.assign(category=\"Aug_Sept_Oct\")\n",
        "Aug_Sept_Oct3 = Aug_Sept_Oct3.assign(category=\"Aug_Sept_Oct\")\n"
      ]
    },
    {
      "cell_type": "code",
      "execution_count": null,
      "metadata": {
        "id": "Gwr5c9hvKB9x",
        "outputId": "eff35a4d-ac7b-4f0b-a60c-6305122d93dd"
      },
      "outputs": [
        {
          "name": "stdout",
          "output_type": "stream",
          "text": [
            "MARCH_NP\n",
            "1    502\n",
            "0    128\n",
            "Name: label, dtype: int64\n",
            "MARCH_TV\n",
            "1    552\n",
            "0    122\n",
            "Name: label, dtype: int64\n",
            "APR_NP\n",
            "1    721\n",
            "0    345\n",
            "Name: label, dtype: int64\n",
            "APR_TV\n",
            "1    947\n",
            "0    422\n",
            "Name: label, dtype: int64\n",
            "JUNE_NP\n",
            "0    789\n",
            "1    462\n",
            "Name: label, dtype: int64\n",
            "JUNE_TV\n",
            "0    1134\n",
            "1     546\n",
            "Name: label, dtype: int64\n",
            "JULY\n",
            "0    69\n",
            "1    31\n",
            "Name: label, dtype: int64\n",
            "AUG\n",
            "0    64\n",
            "1    36\n",
            "Name: label, dtype: int64\n",
            "SEP\n",
            "0    72\n",
            "1    28\n",
            "Name: label, dtype: int64\n",
            "OCT\n",
            "0    72\n",
            "1    28\n",
            "Name: label, dtype: int64\n",
            "AUG2\n",
            "0    135\n",
            "1     50\n",
            "Name: label, dtype: int64\n",
            "SEP2\n",
            "0    142\n",
            "1     43\n",
            "Name: label, dtype: int64\n",
            "OCT2\n",
            "0    173\n",
            "1     57\n",
            "Name: label, dtype: int64\n"
          ]
        }
      ],
      "source": [
        "MARCH_NP = MARCH_NP.dropna()\n",
        "MARCH_NP['label'] = np.where(MARCH_NP['label'] > 0, 1, 0)\n",
        "print(\"MARCH_NP\")\n",
        "print(MARCH_NP['label'].value_counts())\n",
        "\n",
        "MARCH_TV = MARCH_TV.dropna()\n",
        "MARCH_TV['label'] = np.where(MARCH_TV['label'] > 0, 1, 0)\n",
        "print(\"MARCH_TV\")\n",
        "print(MARCH_TV['label'].value_counts())\n",
        "\n",
        "APR_NP = APR_NP.dropna()\n",
        "APR_NP['label'] = np.where(APR_NP['label'] > 0, 1, 0)\n",
        "print(\"APR_NP\")\n",
        "print(APR_NP['label'].value_counts())\n",
        "\n",
        "APR_TV = APR_TV.dropna()\n",
        "APR_TV['label'] = np.where(APR_TV['label'] > 0, 1, 0)\n",
        "print(\"APR_TV\")\n",
        "print(APR_TV['label'].value_counts())\n",
        "\n",
        "JUNE_NP = JUNE_NP.dropna()\n",
        "print(\"JUNE_NP\")\n",
        "print(JUNE_NP['label'].value_counts())\n",
        "\n",
        "JUNE_TV = JUNE_TV.dropna()\n",
        "JUNE_TV['label'] = np.where(JUNE_TV['label'] > 0, 1, 0)\n",
        "print(\"JUNE_TV\")\n",
        "print(JUNE_TV['label'].value_counts())\n",
        "\n",
        "JULY = JULY.dropna()\n",
        "print(\"JULY\")\n",
        "print(JULY['label'].value_counts())\n",
        "\n",
        "AUG = AUG.dropna()\n",
        "print(\"AUG\")\n",
        "print(AUG['label'].value_counts())\n",
        "\n",
        "SEP = SEP.dropna()\n",
        "print(\"SEP\")\n",
        "print(SEP['label'].value_counts())\n",
        "\n",
        "OCT = OCT.dropna()\n",
        "print(\"OCT\")\n",
        "print(OCT['label'].value_counts())\n",
        "\n",
        "AUG2 = AUG2.dropna()\n",
        "print(\"AUG2\")\n",
        "print(AUG2['label'].value_counts())\n",
        "\n",
        "SEP2 = SEP2.dropna()\n",
        "print(\"SEP2\")\n",
        "print(SEP2['label'].value_counts())\n",
        "\n",
        "OCT2 = OCT2.dropna()\n",
        "print(\"OCT2\")\n",
        "print(OCT2['label'].value_counts())\n"
      ]
    },
    {
      "cell_type": "code",
      "execution_count": null,
      "metadata": {
        "id": "mjLb0vMKKB9y",
        "outputId": "d66b9844-ea0a-40c7-a2b8-932a09d0e44a"
      },
      "outputs": [
        {
          "name": "stdout",
          "output_type": "stream",
          "text": [
            "OCT3\n",
            "0    37\n",
            "1    13\n",
            "Name: label, dtype: int64\n",
            "Sept_Oct1\n",
            "0    125\n",
            "1     55\n",
            "Name: label, dtype: int64\n",
            "Sept_Oct2\n",
            "0    135\n",
            "1     45\n",
            "Name: label, dtype: int64\n",
            "Sept_Oct3\n",
            "0    136\n",
            "1     44\n",
            "Name: label, dtype: int64\n",
            "Sept_Oct4\n",
            "0    41\n",
            "1    19\n",
            "Name: label, dtype: int64\n"
          ]
        }
      ],
      "source": [
        "\n",
        "OCT3 = OCT3.dropna()\n",
        "print(\"OCT3\")\n",
        "print(OCT3['label'].value_counts())\n",
        "\n",
        "\n",
        "Sept_Oct1 = Sept_Oct1.dropna()\n",
        "print(\"Sept_Oct1\")\n",
        "print(Sept_Oct1['label'].value_counts())\n",
        "\n",
        "Sept_Oct2 = Sept_Oct2.dropna()\n",
        "print(\"Sept_Oct2\")\n",
        "print(Sept_Oct2['label'].value_counts())\n",
        "\n",
        "Sept_Oct3 = Sept_Oct3.dropna()\n",
        "print(\"Sept_Oct3\")\n",
        "print(Sept_Oct3['label'].value_counts())\n",
        "\n",
        "\n",
        "Sept_Oct4 = Sept_Oct4.dropna()\n",
        "print(\"Sept_Oct4\")\n",
        "print(Sept_Oct4['label'].value_counts())\n"
      ]
    },
    {
      "cell_type": "code",
      "execution_count": null,
      "metadata": {
        "id": "HaSVoyKxKB9y",
        "outputId": "53e963db-d4c4-494a-de80-bd9e30eeda0a"
      },
      "outputs": [
        {
          "name": "stdout",
          "output_type": "stream",
          "text": [
            "Aug_Sept_Oct1\n",
            "0    271\n",
            "1     84\n",
            "Name: label, dtype: int64\n",
            "Aug_Sept_Oct2\n",
            "0    240\n",
            "1    115\n",
            "Name: label, dtype: int64\n",
            "Aug_Sept_Oct3\n",
            "0    40\n",
            "1    10\n",
            "Name: label, dtype: int64\n"
          ]
        }
      ],
      "source": [
        "\n",
        "Aug_Sept_Oct1 = Aug_Sept_Oct1.dropna()\n",
        "print(\"Aug_Sept_Oct1\")\n",
        "print(Aug_Sept_Oct1['label'].value_counts())\n",
        "\n",
        "Aug_Sept_Oct2 = Aug_Sept_Oct2.dropna()\n",
        "print(\"Aug_Sept_Oct2\")\n",
        "print(Aug_Sept_Oct2['label'].value_counts())\n",
        "\n",
        "Aug_Sept_Oct3 = Aug_Sept_Oct3.dropna()\n",
        "print(\"Aug_Sept_Oct3\")\n",
        "print(Aug_Sept_Oct3['label'].value_counts())\n"
      ]
    },
    {
      "cell_type": "code",
      "execution_count": null,
      "metadata": {
        "id": "Plwp5D8tKB9z"
      },
      "outputs": [],
      "source": [
        "\n",
        "total_df = pd.concat([MARCH_NP, MARCH_TV, APR_NP, APR_TV, \n",
        "                      JUNE_NP, JUNE_TV, JULY,\n",
        "                      AUG, SEP, OCT, AUG2, SEP2, OCT2, OCT3,\n",
        "                     Sept_Oct1, Sept_Oct2, Sept_Oct3, Sept_Oct4,\n",
        "                     Aug_Sept_Oct1, Aug_Sept_Oct2, Aug_Sept_Oct3])"
      ]
    },
    {
      "cell_type": "code",
      "execution_count": null,
      "metadata": {
        "id": "rRXtb1FoKB9z",
        "outputId": "b2d61cf6-42ef-4f77-82f7-d2ce890c8226"
      },
      "outputs": [
        {
          "data": {
            "text/html": [
              "<div>\n",
              "<style scoped>\n",
              "    .dataframe tbody tr th:only-of-type {\n",
              "        vertical-align: middle;\n",
              "    }\n",
              "\n",
              "    .dataframe tbody tr th {\n",
              "        vertical-align: top;\n",
              "    }\n",
              "\n",
              "    .dataframe thead th {\n",
              "        text-align: right;\n",
              "    }\n",
              "</style>\n",
              "<table border=\"1\" class=\"dataframe\">\n",
              "  <thead>\n",
              "    <tr style=\"text-align: right;\">\n",
              "      <th></th>\n",
              "      <th>Created</th>\n",
              "      <th>sentence</th>\n",
              "      <th>label</th>\n",
              "      <th>category</th>\n",
              "    </tr>\n",
              "  </thead>\n",
              "  <tbody>\n",
              "    <tr>\n",
              "      <th>206</th>\n",
              "      <td>2020-09-21 18:00:06 CDT</td>\n",
              "      <td>Roughly 140 students who may have been exposed...</td>\n",
              "      <td>1</td>\n",
              "      <td>Aug_Sept_Oct</td>\n",
              "    </tr>\n",
              "    <tr>\n",
              "      <th>368</th>\n",
              "      <td>2020-03-23 19:30:02 CDT</td>\n",
              "      <td>The FDA approved a rapid diagnostic test for c...</td>\n",
              "      <td>1</td>\n",
              "      <td>MARCH_TV</td>\n",
              "    </tr>\n",
              "    <tr>\n",
              "      <th>325</th>\n",
              "      <td>2020-04-20 11:28:08 CDT</td>\n",
              "      <td>A Frankfort man was charged with manslaughter ...</td>\n",
              "      <td>0</td>\n",
              "      <td>APR_NP</td>\n",
              "    </tr>\n",
              "    <tr>\n",
              "      <th>342</th>\n",
              "      <td>2020-11-01 12:29:59 CST</td>\n",
              "      <td>Police claim the gathering became unsafe and t...</td>\n",
              "      <td>0</td>\n",
              "      <td>Aug_Sept_Oct</td>\n",
              "    </tr>\n",
              "    <tr>\n",
              "      <th>1676</th>\n",
              "      <td>2020-06-22 14:30:01 CDT</td>\n",
              "      <td>There will be no Carnival cruises in the U.S. ...</td>\n",
              "      <td>1</td>\n",
              "      <td>JUNE_TV</td>\n",
              "    </tr>\n",
              "    <tr>\n",
              "      <th>...</th>\n",
              "      <td>...</td>\n",
              "      <td>...</td>\n",
              "      <td>...</td>\n",
              "      <td>...</td>\n",
              "    </tr>\n",
              "    <tr>\n",
              "      <th>29</th>\n",
              "      <td>2020-10-27 07:00:02 CDT</td>\n",
              "      <td>The Christmas movie marathon starts Nov. 1! He...</td>\n",
              "      <td>1</td>\n",
              "      <td>OCT</td>\n",
              "    </tr>\n",
              "    <tr>\n",
              "      <th>1244</th>\n",
              "      <td>2020-06-22 19:03:06 CDT</td>\n",
              "      <td>Davenport Police shut down portions of West Ki...</td>\n",
              "      <td>0</td>\n",
              "      <td>JUNE_TV</td>\n",
              "    </tr>\n",
              "    <tr>\n",
              "      <th>140</th>\n",
              "      <td>2020-06-22 23:00:09 CDT</td>\n",
              "      <td>The number of people infected with the coronav...</td>\n",
              "      <td>1</td>\n",
              "      <td>JUNE_TV</td>\n",
              "    </tr>\n",
              "    <tr>\n",
              "      <th>974</th>\n",
              "      <td>2020-06-23 08:55:38 CDT</td>\n",
              "      <td>Have you been seeing more of these lately? We'...</td>\n",
              "      <td>0</td>\n",
              "      <td>JUNE_TV</td>\n",
              "    </tr>\n",
              "    <tr>\n",
              "      <th>100</th>\n",
              "      <td>2020-10-28 18:21:02 CDT</td>\n",
              "      <td>6 (same as Monday) 412 now hospitalized in Sou...</td>\n",
              "      <td>1</td>\n",
              "      <td>Sept_Oct</td>\n",
              "    </tr>\n",
              "  </tbody>\n",
              "</table>\n",
              "<p>100 rows × 4 columns</p>\n",
              "</div>"
            ],
            "text/plain": [
              "                      Created  \\\n",
              "206   2020-09-21 18:00:06 CDT   \n",
              "368   2020-03-23 19:30:02 CDT   \n",
              "325   2020-04-20 11:28:08 CDT   \n",
              "342   2020-11-01 12:29:59 CST   \n",
              "1676  2020-06-22 14:30:01 CDT   \n",
              "...                       ...   \n",
              "29    2020-10-27 07:00:02 CDT   \n",
              "1244  2020-06-22 19:03:06 CDT   \n",
              "140   2020-06-22 23:00:09 CDT   \n",
              "974   2020-06-23 08:55:38 CDT   \n",
              "100   2020-10-28 18:21:02 CDT   \n",
              "\n",
              "                                               sentence  label      category  \n",
              "206   Roughly 140 students who may have been exposed...      1  Aug_Sept_Oct  \n",
              "368   The FDA approved a rapid diagnostic test for c...      1      MARCH_TV  \n",
              "325   A Frankfort man was charged with manslaughter ...      0        APR_NP  \n",
              "342   Police claim the gathering became unsafe and t...      0  Aug_Sept_Oct  \n",
              "1676  There will be no Carnival cruises in the U.S. ...      1       JUNE_TV  \n",
              "...                                                 ...    ...           ...  \n",
              "29    The Christmas movie marathon starts Nov. 1! He...      1           OCT  \n",
              "1244  Davenport Police shut down portions of West Ki...      0       JUNE_TV  \n",
              "140   The number of people infected with the coronav...      1       JUNE_TV  \n",
              "974   Have you been seeing more of these lately? We'...      0       JUNE_TV  \n",
              "100   6 (same as Monday) 412 now hospitalized in Sou...      1      Sept_Oct  \n",
              "\n",
              "[100 rows x 4 columns]"
            ]
          },
          "execution_count": 46,
          "metadata": {},
          "output_type": "execute_result"
        }
      ],
      "source": [
        "total_df.sample(100)"
      ]
    },
    {
      "cell_type": "code",
      "execution_count": null,
      "metadata": {
        "id": "U9fBYnpZKB9z",
        "outputId": "d3e6b75e-ec7b-4026-b44d-09610b6f891a"
      },
      "outputs": [
        {
          "data": {
            "text/plain": [
              "0    4692\n",
              "1    4388\n",
              "Name: label, dtype: int64"
            ]
          },
          "execution_count": 47,
          "metadata": {},
          "output_type": "execute_result"
        }
      ],
      "source": [
        "total_df['label'].value_counts()\n"
      ]
    },
    {
      "cell_type": "code",
      "execution_count": null,
      "metadata": {
        "id": "ronxecDcKB9z"
      },
      "outputs": [],
      "source": [
        "total_df = total_df.dropna()"
      ]
    },
    {
      "cell_type": "code",
      "execution_count": null,
      "metadata": {
        "id": "J3ytho_xKB90"
      },
      "outputs": [],
      "source": [
        "total_df['sentence'] = total_df['sentence'].astype(str)\n"
      ]
    },
    {
      "cell_type": "code",
      "execution_count": null,
      "metadata": {
        "id": "3wfTykhQKB90"
      },
      "outputs": [],
      "source": [
        "total_df.to_csv(\"total_df_add6.csv\", encoding='utf-8-sig')"
      ]
    },
    {
      "cell_type": "code",
      "execution_count": null,
      "metadata": {
        "id": "d4TjGalBKB90",
        "outputId": "c28bb4df-fa58-4f9e-b923-d2c4c18fcf71"
      },
      "outputs": [
        {
          "name": "stderr",
          "output_type": "stream",
          "text": [
            "/Users/yujinkim/opt/anaconda3/lib/python3.8/site-packages/dateutil/parser/_parser.py:1213: UnknownTimezoneWarning: tzname CDT identified but not understood.  Pass `tzinfos` argument in order to correctly return a timezone-aware datetime.  In a future version, this will raise an exception.\n",
            "  warnings.warn(\"tzname {tzname} identified but not understood.  \"\n",
            "/Users/yujinkim/opt/anaconda3/lib/python3.8/site-packages/dateutil/parser/_parser.py:1213: UnknownTimezoneWarning: tzname CST identified but not understood.  Pass `tzinfos` argument in order to correctly return a timezone-aware datetime.  In a future version, this will raise an exception.\n",
            "  warnings.warn(\"tzname {tzname} identified but not understood.  \"\n"
          ]
        }
      ],
      "source": [
        "total_df['Date'] = pd.to_datetime(total_df['Created'], errors='coerce')\n"
      ]
    },
    {
      "cell_type": "code",
      "execution_count": null,
      "metadata": {
        "id": "SW-hBSjjKB90"
      },
      "outputs": [],
      "source": [
        "total_df['Month'] = total_df['Date'].dt.month\n",
        "total_df['Month-str-full'] = total_df['Date'].dt.strftime('%B')"
      ]
    },
    {
      "cell_type": "code",
      "execution_count": null,
      "metadata": {
        "id": "FiyXz8xmKB90",
        "outputId": "14d797e2-7a58-4e4e-b85a-76a90dff9d1d"
      },
      "outputs": [
        {
          "data": {
            "text/html": [
              "<div>\n",
              "<style scoped>\n",
              "    .dataframe tbody tr th:only-of-type {\n",
              "        vertical-align: middle;\n",
              "    }\n",
              "\n",
              "    .dataframe tbody tr th {\n",
              "        vertical-align: top;\n",
              "    }\n",
              "\n",
              "    .dataframe thead tr th {\n",
              "        text-align: left;\n",
              "    }\n",
              "\n",
              "    .dataframe thead tr:last-of-type th {\n",
              "        text-align: right;\n",
              "    }\n",
              "</style>\n",
              "<table border=\"1\" class=\"dataframe\">\n",
              "  <thead>\n",
              "    <tr>\n",
              "      <th></th>\n",
              "      <th>Created</th>\n",
              "      <th>sentence</th>\n",
              "      <th>label</th>\n",
              "    </tr>\n",
              "    <tr>\n",
              "      <th></th>\n",
              "      <th>count</th>\n",
              "      <th>count</th>\n",
              "      <th>count</th>\n",
              "    </tr>\n",
              "    <tr>\n",
              "      <th>Month-str-full</th>\n",
              "      <th></th>\n",
              "      <th></th>\n",
              "      <th></th>\n",
              "    </tr>\n",
              "  </thead>\n",
              "  <tbody>\n",
              "    <tr>\n",
              "      <th>April</th>\n",
              "      <td>2435</td>\n",
              "      <td>2435</td>\n",
              "      <td>2435</td>\n",
              "    </tr>\n",
              "    <tr>\n",
              "      <th>August</th>\n",
              "      <td>600</td>\n",
              "      <td>600</td>\n",
              "      <td>600</td>\n",
              "    </tr>\n",
              "    <tr>\n",
              "      <th>July</th>\n",
              "      <td>1350</td>\n",
              "      <td>1350</td>\n",
              "      <td>1350</td>\n",
              "    </tr>\n",
              "    <tr>\n",
              "      <th>June</th>\n",
              "      <td>1680</td>\n",
              "      <td>1680</td>\n",
              "      <td>1680</td>\n",
              "    </tr>\n",
              "    <tr>\n",
              "      <th>March</th>\n",
              "      <td>1304</td>\n",
              "      <td>1304</td>\n",
              "      <td>1304</td>\n",
              "    </tr>\n",
              "    <tr>\n",
              "      <th>November</th>\n",
              "      <td>110</td>\n",
              "      <td>110</td>\n",
              "      <td>110</td>\n",
              "    </tr>\n",
              "    <tr>\n",
              "      <th>October</th>\n",
              "      <td>800</td>\n",
              "      <td>800</td>\n",
              "      <td>800</td>\n",
              "    </tr>\n",
              "    <tr>\n",
              "      <th>September</th>\n",
              "      <td>800</td>\n",
              "      <td>800</td>\n",
              "      <td>800</td>\n",
              "    </tr>\n",
              "  </tbody>\n",
              "</table>\n",
              "</div>"
            ],
            "text/plain": [
              "               Created sentence label\n",
              "                 count    count count\n",
              "Month-str-full                       \n",
              "April             2435     2435  2435\n",
              "August             600      600   600\n",
              "July              1350     1350  1350\n",
              "June              1680     1680  1680\n",
              "March             1304     1304  1304\n",
              "November           110      110   110\n",
              "October            800      800   800\n",
              "September          800      800   800"
            ]
          },
          "execution_count": 52,
          "metadata": {},
          "output_type": "execute_result"
        }
      ],
      "source": [
        "total_df[[\"Month-str-full\", \"Created\", \"sentence\", \"label\"]].groupby(\"Month-str-full\").agg(['count'])\n"
      ]
    },
    {
      "cell_type": "code",
      "execution_count": null,
      "metadata": {
        "id": "O6Hu83ZkKB91",
        "outputId": "29b6cdef-8b3f-4157-bd7a-779d8dbf306a"
      },
      "outputs": [
        {
          "name": "stdout",
          "output_type": "stream",
          "text": [
            "['March' 'April' 'July' nan 'June' 'August' 'September' 'October'\n",
            " 'November']\n"
          ]
        }
      ],
      "source": [
        "a = total_df['Month-str-full'].unique()\n",
        "print(a)"
      ]
    },
    {
      "cell_type": "code",
      "execution_count": null,
      "metadata": {
        "id": "sdFZR-2MKB91"
      },
      "outputs": [],
      "source": [
        "train_April = total_df[\n",
        "   (total_df['Month-str-full'] == 'April')]\n",
        "train_July = total_df[\n",
        "   (total_df['Month-str-full'] == 'July')]\n",
        "train_June = total_df[\n",
        "   (total_df['Month-str-full'] == 'June')]\n",
        "train_March = total_df[\n",
        "   (total_df['Month-str-full'] == 'March')]\n",
        "train_September = total_df[\n",
        "   (total_df['Month-str-full'] == 'September')]\n",
        "train_August = total_df[\n",
        "   (total_df['Month-str-full'] == 'August')]\n",
        "train_October = total_df[\n",
        "    (total_df[\"Month-str-full\"]== 'October') | (total_df[\"Month-str-full\"]== 'November')]\n"
      ]
    },
    {
      "cell_type": "code",
      "execution_count": null,
      "metadata": {
        "id": "qcMJAex5KB91",
        "outputId": "cd3abaab-a8f4-42f7-eef9-f42989008d0c"
      },
      "outputs": [
        {
          "name": "stdout",
          "output_type": "stream",
          "text": [
            "train_April\n",
            "1    1668\n",
            "0     767\n",
            "Name: label, dtype: int64\n",
            "train_July\n",
            "0    857\n",
            "1    493\n",
            "Name: label, dtype: int64\n",
            "train_June\n",
            "0    1134\n",
            "1     546\n",
            "Name: label, dtype: int64\n",
            "train_March\n",
            "1    1054\n",
            "0     250\n",
            "Name: label, dtype: int64\n",
            "train_September\n",
            "0    584\n",
            "1    216\n",
            "Name: label, dtype: int64\n",
            "train_August\n",
            "0    416\n",
            "1    184\n",
            "Name: label, dtype: int64\n",
            "train_October\n",
            "0    683\n",
            "1    227\n",
            "Name: label, dtype: int64\n"
          ]
        }
      ],
      "source": [
        "print(\"train_April\")\n",
        "print(train_April['label'].value_counts())\n",
        "\n",
        "print(\"train_July\")\n",
        "print(train_July['label'].value_counts())\n",
        "\n",
        "print(\"train_June\")\n",
        "print(train_June['label'].value_counts())\n",
        "\n",
        "print(\"train_March\")\n",
        "print(train_March['label'].value_counts())\n",
        "\n",
        "print(\"train_September\")\n",
        "print(train_September['label'].value_counts())\n",
        "\n",
        "print(\"train_August\")\n",
        "print(train_August['label'].value_counts())\n",
        "\n",
        "print(\"train_October\")\n",
        "print(train_October['label'].value_counts())"
      ]
    },
    {
      "cell_type": "code",
      "execution_count": null,
      "metadata": {
        "id": "v9Bu2IysKB92"
      },
      "outputs": [],
      "source": [
        "from sklearn.utils import resample\n"
      ]
    },
    {
      "cell_type": "code",
      "execution_count": null,
      "metadata": {
        "id": "PMbMT2w8KB92",
        "outputId": "dd3ba93e-dd4a-478e-d028-3f0af333c49a"
      },
      "outputs": [
        {
          "name": "stdout",
          "output_type": "stream",
          "text": [
            "1    1668\n",
            "0     767\n",
            "Name: label, dtype: int64\n",
            "0    857\n",
            "1    493\n",
            "Name: label, dtype: int64\n",
            "0    1134\n",
            "1     546\n",
            "Name: label, dtype: int64\n",
            "1    1054\n",
            "0     250\n",
            "Name: label, dtype: int64\n",
            "0    584\n",
            "1    216\n",
            "Name: label, dtype: int64\n",
            "0    416\n",
            "1    184\n",
            "Name: label, dtype: int64\n",
            "0    683\n",
            "1    227\n",
            "Name: label, dtype: int64\n"
          ]
        }
      ],
      "source": [
        "print(train_April['label'].value_counts())\n",
        "print(train_July['label'].value_counts())\n",
        "print(train_June['label'].value_counts())\n",
        "print(train_March['label'].value_counts())\n",
        "\n",
        "print(train_September['label'].value_counts())\n",
        "print(train_August['label'].value_counts())\n",
        "print(train_October['label'].value_counts())\n",
        "#print(train_November['label'].value_counts())\n"
      ]
    },
    {
      "cell_type": "code",
      "execution_count": null,
      "metadata": {
        "id": "bY-VaSnMKB92"
      },
      "outputs": [],
      "source": [
        "\n",
        "total_df_new = pd.concat([train_April, train_July, train_June, train_March,\n",
        "                              train_September, train_August, train_October])\n"
      ]
    },
    {
      "cell_type": "code",
      "execution_count": null,
      "metadata": {
        "id": "kVxaEayOKB92",
        "outputId": "9ad694c3-b1f9-42f5-f3c4-f2555480dbd1"
      },
      "outputs": [
        {
          "name": "stdout",
          "output_type": "stream",
          "text": [
            "0    4691\n",
            "1    4388\n",
            "Name: label, dtype: int64\n"
          ]
        }
      ],
      "source": [
        "print(total_df_new['label'].value_counts())"
      ]
    },
    {
      "cell_type": "markdown",
      "source": [
        "## Spliting data\n",
        "\n",
        "> saved as train6.csv & test6.csv\n",
        "\n"
      ],
      "metadata": {
        "id": "npzCghRuQsKj"
      }
    },
    {
      "cell_type": "code",
      "execution_count": null,
      "metadata": {
        "id": "FfkN07KuKB93",
        "outputId": "e5c46026-96be-4d5e-ccad-398a0ab67777"
      },
      "outputs": [
        {
          "name": "stdout",
          "output_type": "stream",
          "text": [
            "Number of training sentences: 7,263\n",
            "\n",
            "Number of testing sentences: 1,816\n",
            "\n"
          ]
        }
      ],
      "source": [
        "from sklearn.model_selection import GridSearchCV, train_test_split\n",
        "\n",
        "train, test = train_test_split(total_df_new, test_size=0.2)\n",
        "\n",
        "# Report the number of sentences.\n",
        "print('Number of training sentences: {:,}\\n'.format(train.shape[0]))\n",
        "print('Number of testing sentences: {:,}\\n'.format(test.shape[0]))"
      ]
    },
    {
      "cell_type": "code",
      "execution_count": null,
      "metadata": {
        "id": "u26c_lRXKB93",
        "outputId": "c5d56cd3-e0f0-4c11-9b58-ef69aae41606"
      },
      "outputs": [
        {
          "data": {
            "text/html": [
              "<div>\n",
              "<style scoped>\n",
              "    .dataframe tbody tr th:only-of-type {\n",
              "        vertical-align: middle;\n",
              "    }\n",
              "\n",
              "    .dataframe tbody tr th {\n",
              "        vertical-align: top;\n",
              "    }\n",
              "\n",
              "    .dataframe thead th {\n",
              "        text-align: right;\n",
              "    }\n",
              "</style>\n",
              "<table border=\"1\" class=\"dataframe\">\n",
              "  <thead>\n",
              "    <tr style=\"text-align: right;\">\n",
              "      <th></th>\n",
              "      <th>Created</th>\n",
              "      <th>sentence</th>\n",
              "      <th>label</th>\n",
              "      <th>category</th>\n",
              "      <th>Date</th>\n",
              "      <th>Month</th>\n",
              "      <th>Month-str-full</th>\n",
              "    </tr>\n",
              "  </thead>\n",
              "  <tbody>\n",
              "    <tr>\n",
              "      <th>1571</th>\n",
              "      <td>2020-06-22 19:25:41 CDT</td>\n",
              "      <td>The results came back Thursday and the restaur...</td>\n",
              "      <td>1</td>\n",
              "      <td>JUNE_TV</td>\n",
              "      <td>2020-06-22 19:25:41</td>\n",
              "      <td>6.0</td>\n",
              "      <td>June</td>\n",
              "    </tr>\n",
              "    <tr>\n",
              "      <th>1562</th>\n",
              "      <td>2020-06-23 08:45:07 CDT</td>\n",
              "      <td>Vice President Mike Pence is expected in Wisco...</td>\n",
              "      <td>0</td>\n",
              "      <td>JUNE_TV</td>\n",
              "      <td>2020-06-23 08:45:07</td>\n",
              "      <td>6.0</td>\n",
              "      <td>June</td>\n",
              "    </tr>\n",
              "    <tr>\n",
              "      <th>575</th>\n",
              "      <td>2020-06-22 18:30:07 CDT</td>\n",
              "      <td>A new mural has been unveiled in Wichita Falls...</td>\n",
              "      <td>0</td>\n",
              "      <td>JUNE_TV</td>\n",
              "      <td>2020-06-22 18:30:07</td>\n",
              "      <td>6.0</td>\n",
              "      <td>June</td>\n",
              "    </tr>\n",
              "  </tbody>\n",
              "</table>\n",
              "</div>"
            ],
            "text/plain": [
              "                      Created  \\\n",
              "1571  2020-06-22 19:25:41 CDT   \n",
              "1562  2020-06-23 08:45:07 CDT   \n",
              "575   2020-06-22 18:30:07 CDT   \n",
              "\n",
              "                                               sentence  label category  \\\n",
              "1571  The results came back Thursday and the restaur...      1  JUNE_TV   \n",
              "1562  Vice President Mike Pence is expected in Wisco...      0  JUNE_TV   \n",
              "575   A new mural has been unveiled in Wichita Falls...      0  JUNE_TV   \n",
              "\n",
              "                    Date  Month Month-str-full  \n",
              "1571 2020-06-22 19:25:41    6.0           June  \n",
              "1562 2020-06-23 08:45:07    6.0           June  \n",
              "575  2020-06-22 18:30:07    6.0           June  "
            ]
          },
          "execution_count": 63,
          "metadata": {},
          "output_type": "execute_result"
        }
      ],
      "source": [
        "train.sample(3)"
      ]
    },
    {
      "cell_type": "code",
      "execution_count": null,
      "metadata": {
        "id": "IMWqm5rqKB93",
        "outputId": "23118c17-0daf-4eba-b941-a718f82a38e9"
      },
      "outputs": [
        {
          "data": {
            "text/html": [
              "<div>\n",
              "<style scoped>\n",
              "    .dataframe tbody tr th:only-of-type {\n",
              "        vertical-align: middle;\n",
              "    }\n",
              "\n",
              "    .dataframe tbody tr th {\n",
              "        vertical-align: top;\n",
              "    }\n",
              "\n",
              "    .dataframe thead th {\n",
              "        text-align: right;\n",
              "    }\n",
              "</style>\n",
              "<table border=\"1\" class=\"dataframe\">\n",
              "  <thead>\n",
              "    <tr style=\"text-align: right;\">\n",
              "      <th></th>\n",
              "      <th>Created</th>\n",
              "      <th>sentence</th>\n",
              "      <th>label</th>\n",
              "      <th>category</th>\n",
              "      <th>Date</th>\n",
              "      <th>Month</th>\n",
              "      <th>Month-str-full</th>\n",
              "    </tr>\n",
              "  </thead>\n",
              "  <tbody>\n",
              "    <tr>\n",
              "      <th>376</th>\n",
              "      <td>2020-04-20 13:34:00 CDT</td>\n",
              "      <td>Among the suggestions from the American Academ...</td>\n",
              "      <td>1</td>\n",
              "      <td>APR_TV</td>\n",
              "      <td>2020-04-20 13:34:00</td>\n",
              "      <td>4.0</td>\n",
              "      <td>April</td>\n",
              "    </tr>\n",
              "    <tr>\n",
              "      <th>1319</th>\n",
              "      <td>2020-06-22 11:44:00 CDT</td>\n",
              "      <td>For more than a week before President Trump’s ...</td>\n",
              "      <td>0</td>\n",
              "      <td>JUNE_TV</td>\n",
              "      <td>2020-06-22 11:44:00</td>\n",
              "      <td>6.0</td>\n",
              "      <td>June</td>\n",
              "    </tr>\n",
              "    <tr>\n",
              "      <th>606</th>\n",
              "      <td>2020-03-23 19:28:26 CDT</td>\n",
              "      <td>Some of the county’s emergency management pers...</td>\n",
              "      <td>1</td>\n",
              "      <td>MARCH_NP</td>\n",
              "      <td>2020-03-23 19:28:26</td>\n",
              "      <td>3.0</td>\n",
              "      <td>March</td>\n",
              "    </tr>\n",
              "  </tbody>\n",
              "</table>\n",
              "</div>"
            ],
            "text/plain": [
              "                      Created  \\\n",
              "376   2020-04-20 13:34:00 CDT   \n",
              "1319  2020-06-22 11:44:00 CDT   \n",
              "606   2020-03-23 19:28:26 CDT   \n",
              "\n",
              "                                               sentence  label  category  \\\n",
              "376   Among the suggestions from the American Academ...      1    APR_TV   \n",
              "1319  For more than a week before President Trump’s ...      0   JUNE_TV   \n",
              "606   Some of the county’s emergency management pers...      1  MARCH_NP   \n",
              "\n",
              "                    Date  Month Month-str-full  \n",
              "376  2020-04-20 13:34:00    4.0          April  \n",
              "1319 2020-06-22 11:44:00    6.0           June  \n",
              "606  2020-03-23 19:28:26    3.0          March  "
            ]
          },
          "execution_count": 64,
          "metadata": {},
          "output_type": "execute_result"
        }
      ],
      "source": [
        "test.sample(3)"
      ]
    },
    {
      "cell_type": "code",
      "execution_count": null,
      "metadata": {
        "id": "xmQSU1xEKB93"
      },
      "outputs": [],
      "source": [
        "train.to_csv(\"train6.csv\", encoding='utf-8-sig')\n",
        "test.to_csv(\"test6.csv\", encoding='utf-8-sig')"
      ]
    },
    {
      "cell_type": "code",
      "source": [
        "import pandas as pd\n",
        "import numpy as np\n",
        "\n",
        "#Load the dataset into a pandas dataframe.\n",
        "train = pd.read_csv(\n",
        "    \"train6.csv\",\n",
        "    sep=\",\",\n",
        "    header=0\n",
        "    )\n",
        "\n",
        "#Load the dataset into a pandas dataframe.\n",
        "test = pd.read_csv(\n",
        "    \"test6.csv\",\n",
        "    sep=\",\",\n",
        "    header=0\n",
        "    )"
      ],
      "metadata": {
        "id": "bE9cG6VgQ3J1"
      },
      "execution_count": null,
      "outputs": []
    },
    {
      "cell_type": "markdown",
      "metadata": {
        "id": "peBT0FDCgfgK"
      },
      "source": [
        "### Check for possible duplicate records"
      ]
    },
    {
      "cell_type": "code",
      "execution_count": null,
      "metadata": {
        "id": "Y9LJxkGqnbOo"
      },
      "outputs": [],
      "source": [
        "subset = train[[\"sentence\", \"label\", \"Created\", \"category\"]]"
      ]
    },
    {
      "cell_type": "code",
      "execution_count": null,
      "metadata": {
        "colab": {
          "base_uri": "https://localhost:8080/",
          "height": 34
        },
        "id": "yehkKt0LnvFY",
        "outputId": "8cadc3c3-cb39-4064-c784-b735623d05d6"
      },
      "outputs": [
        {
          "data": {
            "text/plain": [
              "7243"
            ]
          },
          "execution_count": 66,
          "metadata": {},
          "output_type": "execute_result"
        }
      ],
      "source": [
        "subset.drop_duplicates().shape[0]"
      ]
    },
    {
      "cell_type": "code",
      "execution_count": null,
      "metadata": {
        "colab": {
          "base_uri": "https://localhost:8080/",
          "height": 34
        },
        "id": "xneFAqQtp9A2",
        "outputId": "e39bac3b-3605-4fd2-bb2d-538b4ff67b0e"
      },
      "outputs": [
        {
          "data": {
            "text/plain": [
              "20"
            ]
          },
          "execution_count": 67,
          "metadata": {},
          "output_type": "execute_result"
        }
      ],
      "source": [
        "train.shape[0]-subset.drop_duplicates().shape[0] #approximate num of duplicates"
      ]
    },
    {
      "cell_type": "code",
      "execution_count": null,
      "metadata": {
        "id": "nhiioPVbKB94",
        "outputId": "69e1850c-4c70-4de9-c08d-1b19ab10c2d5"
      },
      "outputs": [
        {
          "data": {
            "text/html": [
              "<div>\n",
              "<style scoped>\n",
              "    .dataframe tbody tr th:only-of-type {\n",
              "        vertical-align: middle;\n",
              "    }\n",
              "\n",
              "    .dataframe tbody tr th {\n",
              "        vertical-align: top;\n",
              "    }\n",
              "\n",
              "    .dataframe thead th {\n",
              "        text-align: right;\n",
              "    }\n",
              "</style>\n",
              "<table border=\"1\" class=\"dataframe\">\n",
              "  <thead>\n",
              "    <tr style=\"text-align: right;\">\n",
              "      <th></th>\n",
              "      <th>sentence</th>\n",
              "      <th>label</th>\n",
              "      <th>Created</th>\n",
              "      <th>category</th>\n",
              "    </tr>\n",
              "  </thead>\n",
              "  <tbody>\n",
              "    <tr>\n",
              "      <th>31</th>\n",
              "      <td>The sharks are back! An unprecedented season o...</td>\n",
              "      <td>0</td>\n",
              "      <td>2020-10-15 18:32:59 CDT</td>\n",
              "      <td>OCT</td>\n",
              "    </tr>\n",
              "    <tr>\n",
              "      <th>935</th>\n",
              "      <td>Nearly 200 people in Texas died from the coron...</td>\n",
              "      <td>1</td>\n",
              "      <td>2020-07-22 18:46:21 CDT</td>\n",
              "      <td>JUNE_NP</td>\n",
              "    </tr>\n",
              "    <tr>\n",
              "      <th>1589</th>\n",
              "      <td>Governor Abbott said today that closing down T...</td>\n",
              "      <td>1</td>\n",
              "      <td>2020-06-22 16:30:01 CDT</td>\n",
              "      <td>JUNE_TV</td>\n",
              "    </tr>\n",
              "  </tbody>\n",
              "</table>\n",
              "</div>"
            ],
            "text/plain": [
              "                                               sentence  label  \\\n",
              "31    The sharks are back! An unprecedented season o...      0   \n",
              "935   Nearly 200 people in Texas died from the coron...      1   \n",
              "1589  Governor Abbott said today that closing down T...      1   \n",
              "\n",
              "                      Created category  \n",
              "31    2020-10-15 18:32:59 CDT      OCT  \n",
              "935   2020-07-22 18:46:21 CDT  JUNE_NP  \n",
              "1589  2020-06-22 16:30:01 CDT  JUNE_TV  "
            ]
          },
          "execution_count": 68,
          "metadata": {},
          "output_type": "execute_result"
        }
      ],
      "source": [
        "subset.sample(3)"
      ]
    },
    {
      "cell_type": "markdown",
      "metadata": {
        "id": "2F5e3Us289dx"
      },
      "source": [
        "## Set global vars"
      ]
    },
    {
      "cell_type": "code",
      "execution_count": null,
      "metadata": {
        "colab": {
          "base_uri": "https://localhost:8080/",
          "height": 34
        },
        "id": "xqay-aYNz3Dr",
        "outputId": "9ab0a47e-3915-4b5d-8b25-97ad8c76ac34"
      },
      "outputs": [
        {
          "name": "stdout",
          "output_type": "stream",
          "text": [
            "This will be the name of the output file:  2021-3-5_178_label_predictions.csv\n"
          ]
        }
      ],
      "source": [
        "#GLOBAL VARS\n",
        "THESE_LABELS = \"label\"\n",
        "NUM_LABELS = 2\n",
        "EPOCHS = 2\n",
        "MODEL = \"distilbert-base-uncased\"\n",
        "LEARNING_RATE = 5e-5\n",
        "BATCH_SIZE = 32\n",
        "\n",
        "#Output file name\n",
        "import datetime\n",
        "now = datetime.datetime.now()\n",
        "OUTPUT_FNAME = f\"{now.year}-{now.month}-{now.day}_{now.hour}{now.minute}_{THESE_LABELS}_predictions.csv\"\n",
        "print(\"This will be the name of the output file: \", OUTPUT_FNAME)\n",
        "\n",
        "# Create sentence and label lists\n",
        "sentences = subset.sentence.values\n",
        "labels = subset[THESE_LABELS].values"
      ]
    },
    {
      "cell_type": "markdown",
      "metadata": {
        "id": "wpDnqhAnW07y"
      },
      "source": [
        "## Get tokenizer & tokenize training data\n"
      ]
    },
    {
      "cell_type": "code",
      "execution_count": null,
      "metadata": {
        "cellView": "both",
        "colab": {
          "base_uri": "https://localhost:8080/",
          "height": 84,
          "referenced_widgets": [
            "a55b36fa8db24acc9e36ac41f56d35ea",
            "4110b7f8ada24cbd9eab0fee819aa6fa",
            "09c73d16028e4027b9b1ca24dcdef7cd",
            "b2e80377bbc7430ca6118fd1132bacae",
            "7e9fd2ae432d4f2f81c57207b777fa40",
            "dba37931a92d49d19889206c96703e6f",
            "ef1f560aaa9a47fbb1b19d96a8932e6a",
            "2bca6056d0ed45008dd7f33dd8d6afc4"
          ]
        },
        "id": "IkVGNsmc03Hn",
        "outputId": "f6044649-c407-4749-b13b-e9d0f203d41b"
      },
      "outputs": [
        {
          "name": "stdout",
          "output_type": "stream",
          "text": [
            "Loading BERT tokenizer...\n"
          ]
        }
      ],
      "source": [
        "from transformers import DistilBertTokenizer,BertTokenizer\n",
        "\n",
        "# Load the BERT tokenizer.\n",
        "print('Loading BERT tokenizer...')\n",
        "if MODEL == \"distilbert-base-uncased\":\n",
        "\n",
        "  from transformers import DistilBertTokenizer\n",
        "  tokenizer = DistilBertTokenizer.from_pretrained('distilbert-base-uncased', do_lower_case=True)\n",
        "\n",
        "elif MODEL == \"bert-base-uncased\":\n",
        "\n",
        "  from transformers import BertTokenizer\n",
        "  tokenizer = BertTokenizer.from_pretrained('bert-base-uncased', do_lower_case=True)\n",
        "\n",
        "elif MODEL == \"distilbert-base-cased\":\n",
        "\n",
        "  from transformers import DistilBertTokenizer\n",
        "  tokenizer = DistilBertTokenizer.from_pretrained('distilbert-base-cased', do_lower_case=False)\n",
        "\n",
        "else:\n",
        "  raise ValueError('Unknown model specified. Check MODEL var.')"
      ]
    },
    {
      "cell_type": "code",
      "execution_count": null,
      "metadata": {
        "colab": {
          "base_uri": "https://localhost:8080/",
          "height": 89
        },
        "id": "qPTiPlVP063Z",
        "outputId": "37a239d8-fc05-4b8e-ca9f-cfbeae23cfd8"
      },
      "outputs": [
        {
          "name": "stdout",
          "output_type": "stream",
          "text": [
            " Original:  The new fund hopes to raise more than $100m to help organizations working on issues such as police reform, health care equity, and economic empowerment. Eastern Bank, State Street each give $5m for racial equity effort led by Black and brown executives | Shirley Leung The New Commonwealth fund hopes to raise more than $100m to help organizations working on issues such as police reform, health care equity, and economic empowerment.\n",
            "Tokenized:  ['the', 'new', 'fund', 'hopes', 'to', 'raise', 'more', 'than', '$', '100', '##m', 'to', 'help', 'organizations', 'working', 'on', 'issues', 'such', 'as', 'police', 'reform', ',', 'health', 'care', 'equity', ',', 'and', 'economic', 'empowerment', '.', 'eastern', 'bank', ',', 'state', 'street', 'each', 'give', '$', '5', '##m', 'for', 'racial', 'equity', 'effort', 'led', 'by', 'black', 'and', 'brown', 'executives', '|', 'shirley', 'leung', 'the', 'new', 'commonwealth', 'fund', 'hopes', 'to', 'raise', 'more', 'than', '$', '100', '##m', 'to', 'help', 'organizations', 'working', 'on', 'issues', 'such', 'as', 'police', 'reform', ',', 'health', 'care', 'equity', ',', 'and', 'economic', 'empowerment', '.']\n",
            "Token IDs:  [1996, 2047, 4636, 8069, 2000, 5333, 2062, 2084, 1002, 2531, 2213, 2000, 2393, 4411, 2551, 2006, 3314, 2107, 2004, 2610, 5290, 1010, 2740, 2729, 10067, 1010, 1998, 3171, 23011, 1012, 2789, 2924, 1010, 2110, 2395, 2169, 2507, 1002, 1019, 2213, 2005, 5762, 10067, 3947, 2419, 2011, 2304, 1998, 2829, 12706, 1064, 11280, 26037, 1996, 2047, 5663, 4636, 8069, 2000, 5333, 2062, 2084, 1002, 2531, 2213, 2000, 2393, 4411, 2551, 2006, 3314, 2107, 2004, 2610, 5290, 1010, 2740, 2729, 10067, 1010, 1998, 3171, 23011, 1012]\n"
          ]
        }
      ],
      "source": [
        "# Print the original sentence.\n",
        "print(' Original: ', sentences[15])\n",
        "\n",
        "# Print the sentence split into tokens.\n",
        "print('Tokenized: ', tokenizer.tokenize(sentences[15]))\n",
        "\n",
        "# Print the sentence mapped to token ids.\n",
        "print('Token IDs: ', tokenizer.convert_tokens_to_ids(tokenizer.tokenize(sentences[15])))"
      ]
    },
    {
      "cell_type": "code",
      "execution_count": null,
      "metadata": {
        "colab": {
          "base_uri": "https://localhost:8080/",
          "height": 34
        },
        "id": "e15ytH_Y0_mt",
        "outputId": "d7d91b8e-a893-470f-bd27-23d0db3f8992"
      },
      "outputs": [
        {
          "name": "stdout",
          "output_type": "stream",
          "text": [
            "Max sentence length:  401\n"
          ]
        }
      ],
      "source": [
        "max_len = 0\n",
        "\n",
        "# For every sentence...\n",
        "for sent in sentences:\n",
        "\n",
        "    # Tokenize the text and add `[CLS]` and `[SEP]` tokens.\n",
        "    input_ids = tokenizer.encode(sent, add_special_tokens=True, max_length = 512, truncation = True) # ADDED max_length here\n",
        "\n",
        "    # Update the maximum sentence length.\n",
        "    max_len = max(max_len, len(input_ids))\n",
        "\n",
        "print('Max sentence length: ', max_len) #max sentence len for BERT is 512"
      ]
    },
    {
      "cell_type": "code",
      "execution_count": null,
      "metadata": {
        "colab": {
          "base_uri": "https://localhost:8080/",
          "height": 610
        },
        "id": "mchocelg1Fv3",
        "outputId": "872b4eee-88ea-4ca2-b5c7-aef418f5dd6d"
      },
      "outputs": [
        {
          "name": "stderr",
          "output_type": "stream",
          "text": [
            "/Users/yujinkim/opt/anaconda3/lib/python3.8/site-packages/transformers/tokenization_utils_base.py:1764: FutureWarning: The `pad_to_max_length` argument is deprecated and will be removed in a future version, use `padding=True` or `padding='longest'` to pad to the longest sequence in the batch, or use `padding='max_length'` to pad to a max length. In this case, you can give a specific length with `max_length` (e.g. `max_length=45`) or leave max_length to None to pad to the maximal input size of the model (e.g. 512 for Bert).\n",
            "  warnings.warn(\n"
          ]
        },
        {
          "name": "stdout",
          "output_type": "stream",
          "text": [
            "Original:  The new fund hopes to raise more than $100m to help organizations working on issues such as police reform, health care equity, and economic empowerment. Eastern Bank, State Street each give $5m for racial equity effort led by Black and brown executives | Shirley Leung The New Commonwealth fund hopes to raise more than $100m to help organizations working on issues such as police reform, health care equity, and economic empowerment.\n",
            "Token IDs: tensor([  101,  1996,  2047,  4636,  8069,  2000,  5333,  2062,  2084,  1002,\n",
            "         2531,  2213,  2000,  2393,  4411,  2551,  2006,  3314,  2107,  2004,\n",
            "         2610,  5290,  1010,  2740,  2729, 10067,  1010,  1998,  3171, 23011,\n",
            "         1012,  2789,  2924,  1010,  2110,  2395,  2169,  2507,  1002,  1019,\n",
            "         2213,  2005,  5762, 10067,  3947,  2419,  2011,  2304,  1998,  2829,\n",
            "        12706,  1064, 11280, 26037,  1996,  2047,  5663,  4636,  8069,  2000,\n",
            "         5333,  2062,  2084,  1002,  2531,  2213,  2000,  2393,  4411,  2551,\n",
            "         2006,  3314,  2107,  2004,  2610,  5290,  1010,  2740,  2729, 10067,\n",
            "         1010,  1998,  3171, 23011,  1012,   102,     0,     0,     0,     0,\n",
            "            0,     0,     0,     0,     0,     0,     0,     0,     0,     0,\n",
            "            0,     0,     0,     0,     0,     0,     0,     0,     0,     0,\n",
            "            0,     0,     0,     0,     0,     0,     0,     0,     0,     0,\n",
            "            0,     0,     0,     0,     0,     0,     0,     0,     0,     0,\n",
            "            0,     0,     0,     0,     0,     0,     0,     0,     0,     0,\n",
            "            0,     0,     0,     0,     0,     0,     0,     0,     0,     0,\n",
            "            0,     0,     0,     0,     0,     0,     0,     0,     0,     0,\n",
            "            0,     0,     0,     0,     0,     0,     0,     0,     0,     0,\n",
            "            0,     0,     0,     0,     0,     0,     0,     0,     0,     0,\n",
            "            0,     0,     0,     0,     0,     0,     0,     0,     0,     0,\n",
            "            0,     0,     0,     0,     0,     0,     0,     0,     0,     0,\n",
            "            0,     0,     0,     0,     0,     0,     0,     0,     0,     0,\n",
            "            0,     0,     0,     0,     0,     0,     0,     0,     0,     0,\n",
            "            0,     0,     0,     0,     0,     0,     0,     0,     0,     0,\n",
            "            0,     0,     0,     0,     0,     0,     0,     0,     0,     0,\n",
            "            0,     0,     0,     0,     0,     0,     0,     0,     0,     0,\n",
            "            0,     0,     0,     0,     0,     0,     0,     0,     0,     0,\n",
            "            0,     0,     0,     0,     0,     0,     0,     0,     0,     0,\n",
            "            0,     0,     0,     0,     0,     0,     0,     0,     0,     0,\n",
            "            0,     0,     0,     0,     0,     0,     0,     0,     0,     0,\n",
            "            0,     0,     0,     0,     0,     0,     0,     0,     0,     0,\n",
            "            0,     0,     0,     0,     0,     0,     0,     0,     0,     0,\n",
            "            0,     0,     0,     0,     0,     0,     0,     0,     0,     0,\n",
            "            0,     0,     0,     0,     0,     0,     0,     0,     0,     0,\n",
            "            0,     0,     0,     0,     0,     0,     0,     0,     0,     0,\n",
            "            0,     0,     0,     0,     0,     0,     0,     0,     0,     0,\n",
            "            0,     0,     0,     0,     0,     0,     0,     0,     0,     0,\n",
            "            0,     0,     0,     0,     0,     0,     0,     0,     0,     0,\n",
            "            0,     0,     0,     0,     0,     0,     0,     0,     0,     0,\n",
            "            0,     0,     0,     0,     0,     0,     0,     0,     0,     0,\n",
            "            0,     0,     0,     0,     0,     0,     0,     0,     0,     0,\n",
            "            0])\n"
          ]
        }
      ],
      "source": [
        "# Tokenize all of the sentences and map the tokens to their word IDs.\n",
        "input_ids = []\n",
        "attention_masks = []\n",
        "\n",
        "# For every sentence...\n",
        "for sent in sentences:\n",
        "    # `encode_plus` will:\n",
        "    #   (1) Tokenize the sentence.\n",
        "    #   (2) Prepend the `[CLS]` token to the start.\n",
        "    #   (3) Append the `[SEP]` token to the end.\n",
        "    #   (4) Map tokens to their IDs.\n",
        "    #   (5) Pad or truncate the sentence to `max_length`\n",
        "    #   (6) Create attention masks for [PAD] tokens.\n",
        "    encoded_dict = tokenizer.encode_plus(\n",
        "                        sent,                      # Sentence to encode.\n",
        "                        add_special_tokens = True, # Add '[CLS]' and '[SEP]'\n",
        "                        max_length = max_len,      # Pad & truncate all sentences.\n",
        "                        truncation=True,\n",
        "                        pad_to_max_length = True,\n",
        "                        return_attention_mask = True,   # Construct attn. masks.\n",
        "                        return_tensors = 'pt',     # Return pytorch tensors.\n",
        "                   )\n",
        "    \n",
        "    # Add the encoded sentence to the list.    \n",
        "    input_ids.append(encoded_dict['input_ids'])\n",
        "    \n",
        "    # And its attention mask (simply differentiates padding from non-padding).\n",
        "    attention_masks.append(encoded_dict['attention_mask'])\n",
        "\n",
        "# Convert the lists into tensors.\n",
        "input_ids = torch.cat(input_ids, dim=0)\n",
        "attention_masks = torch.cat(attention_masks, dim=0)\n",
        "labels = torch.tensor(labels)\n",
        "\n",
        "# Print sentence 0, now as a list of IDs.\n",
        "print('Original: ', sentences[15])\n",
        "print('Token IDs:', input_ids[15])"
      ]
    },
    {
      "cell_type": "code",
      "execution_count": null,
      "metadata": {
        "colab": {
          "base_uri": "https://localhost:8080/",
          "height": 52
        },
        "id": "7o_n7avZ268V",
        "outputId": "26b420a0-d32b-49b8-d9b8-56db87ca26a9"
      },
      "outputs": [
        {
          "name": "stdout",
          "output_type": "stream",
          "text": [
            "6,536 training samples\n",
            "  727 validation samples\n"
          ]
        }
      ],
      "source": [
        "from torch.utils.data import TensorDataset, random_split\n",
        "\n",
        "# Combine the training inputs into a TensorDataset.\n",
        "dataset = TensorDataset(input_ids, attention_masks, labels)\n",
        "\n",
        "# Create a 90-10 train-validation split.\n",
        "\n",
        "# Calculate the number of samples to include in each set.\n",
        "train_size = int(0.9 * len(dataset))\n",
        "val_size = len(dataset) - train_size\n",
        "\n",
        "# Divide the dataset by randomly selecting samples.\n",
        "train_dataset, val_dataset = random_split(dataset, [train_size, val_size])\n",
        "\n",
        "print('{:>5,} training samples'.format(train_size))\n",
        "print('{:>5,} validation samples'.format(val_size))"
      ]
    },
    {
      "cell_type": "code",
      "execution_count": null,
      "metadata": {
        "id": "Mzj_t-MH3AhO"
      },
      "outputs": [],
      "source": [
        "from torch.utils.data import DataLoader, RandomSampler, SequentialSampler\n",
        "\n",
        "# Create the DataLoaders for our training and validation sets.\n",
        "# We'll take training samples in random order. \n",
        "train_dataloader = DataLoader(\n",
        "            train_dataset,  # The training samples.\n",
        "            sampler = RandomSampler(train_dataset), # Select batches randomly\n",
        "            batch_size = BATCH_SIZE # Trains with this batch size.\n",
        "        )\n",
        "\n",
        "# For validation the order doesn't matter, so we'll just read them sequentially.\n",
        "validation_dataloader = DataLoader(\n",
        "            val_dataset, # The validation samples.\n",
        "            sampler = SequentialSampler(val_dataset), # Pull out batches sequentially.\n",
        "            batch_size = BATCH_SIZE # Evaluate with this batch size.\n",
        "        )"
      ]
    },
    {
      "cell_type": "markdown",
      "metadata": {
        "id": "OXGcRgplWtky"
      },
      "source": [
        "## Configure model"
      ]
    },
    {
      "cell_type": "code",
      "execution_count": null,
      "metadata": {
        "colab": {
          "base_uri": "https://localhost:8080/",
          "height": 1000,
          "referenced_widgets": [
            "d97cec79459b4660842914f689f90320",
            "f45226822e9c4d019e760e93a82682b3",
            "b0abafdb37744e44b9a120eb9e5640cd",
            "40aefb4a98f6403783cb3f7f5822aa57",
            "f946887679c14cbdaeab3dac05573368",
            "e3ea00cd4b3743e5b7804e6eabfac6da",
            "d14ccb20a5634ba0b0a54d95e1b2ea7b",
            "731ff6d2b57b4bc7a457e91052d2c82f",
            "61432a50221646d5975162f8ca3d1aa8",
            "1a01ee8c4b704b8bbbb2e6b6c648e3c2",
            "1c8bd4aae7ee4ba8ae1764914faec0b3",
            "6fde4b7ae1044bb4b51b4f2382af934d",
            "870bfdb2651e4cb9a4e8369cdd1b2127",
            "3717eedbde6149529ac1b5d923a4a5bf",
            "6959ec5c262a4527b95d6ae2b6607dff",
            "9216f378189647e6be97ef5521c29902"
          ]
        },
        "id": "RumSGl689alO",
        "outputId": "412064eb-fa97-409a-d429-33c1faf9100c"
      },
      "outputs": [
        {
          "name": "stderr",
          "output_type": "stream",
          "text": [
            "Some weights of the model checkpoint at distilbert-base-uncased were not used when initializing DistilBertForSequenceClassification: ['vocab_transform.weight', 'vocab_transform.bias', 'vocab_layer_norm.weight', 'vocab_layer_norm.bias', 'vocab_projector.weight', 'vocab_projector.bias']\n",
            "- This IS expected if you are initializing DistilBertForSequenceClassification from the checkpoint of a model trained on another task or with another architecture (e.g. initializing a BertForSequenceClassification model from a BertForPretraining model).\n",
            "- This IS NOT expected if you are initializing DistilBertForSequenceClassification from the checkpoint of a model that you expect to be exactly identical (initializing a BertForSequenceClassification model from a BertForSequenceClassification model).\n",
            "Some weights of DistilBertForSequenceClassification were not initialized from the model checkpoint at distilbert-base-uncased and are newly initialized: ['pre_classifier.weight', 'pre_classifier.bias', 'classifier.weight', 'classifier.bias']\n",
            "You should probably TRAIN this model on a down-stream task to be able to use it for predictions and inference.\n"
          ]
        }
      ],
      "source": [
        "from transformers import AdamW, BertConfig\n",
        "\n",
        "# Load BertForSequenceClassification, the pretrained BERT model with a single \n",
        "# linear classification layer on top.\n",
        "if MODEL == \"distilbert-base-uncased\":\n",
        "\n",
        "  from transformers import DistilBertForSequenceClassification\n",
        "\n",
        "  model = DistilBertForSequenceClassification.from_pretrained(\n",
        "      \"distilbert-base-uncased\", # Use the 12-layer BERT model, with an uncased vocab.\n",
        "      num_labels = NUM_LABELS, # The number of output labels--2 for binary classification.\n",
        "                      # You can increase this for multi-class tasks.   \n",
        "      output_attentions = False, # Whether the model returns attentions weights.\n",
        "      output_hidden_states = False, # Whether the model returns all hidden-states.\n",
        "  )\n",
        "\n",
        "elif MODEL == \"bert-base-uncased\":\n",
        "\n",
        "  from transformers import BertForSequenceClassification\n",
        "\n",
        "  model = BertForSequenceClassification.from_pretrained(\n",
        "    \"bert-base-uncased\", # Use the 12-layer BERT model, with an uncased vocab.\n",
        "    num_labels = NUM_LABELS, # The number of output labels--2 for binary classification.\n",
        "                    # You can increase this for multi-class tasks.   \n",
        "    output_attentions = False, # Whether the model returns attentions weights.\n",
        "    output_hidden_states = False, # Whether the model returns all hidden-states.\n",
        ")\n",
        "  \n",
        "elif MODEL == \"distilbert-base-cased\":\n",
        "\n",
        "  from transformers import DistilBertForSequenceClassification\n",
        "\n",
        "  model = DistilBertForSequenceClassification.from_pretrained(\n",
        "      \"distilbert-base-cased\", # Use the 12-layer BERT model, with an uncased vocab.\n",
        "      num_labels = NUM_LABELS, # The number of output labels--2 for binary classification.\n",
        "                      # You can increase this for multi-class tasks.   \n",
        "      output_attentions = False, # Whether the model returns attentions weights.\n",
        "      output_hidden_states = False, # Whether the model returns all hidden-states.\n",
        "  )\n",
        "\n",
        "else:\n",
        "  raise ValueError('Unknown model specified. Check MODEL var.')\n",
        "\n",
        "# Tell pytorch to run this model on the GPU.\n",
        "#model.cuda()"
      ]
    },
    {
      "cell_type": "code",
      "execution_count": null,
      "metadata": {
        "id": "rWYz5A0R9nh_"
      },
      "outputs": [],
      "source": [
        "# Note: AdamW is a class from the huggingface library (as opposed to pytorch) \n",
        "# I believe the 'W' stands for 'Weight Decay fix\"\n",
        "optimizer = AdamW(model.parameters(),\n",
        "                  lr = LEARNING_RATE, # args.learning_rate - default is 5e-5, our notebook had 2e-5\n",
        "                  eps = 1e-8 # args.adam_epsilon  - default is 1e-8.\n",
        "                )"
      ]
    },
    {
      "cell_type": "markdown",
      "metadata": {
        "id": "sLHrEHgDWhzf"
      },
      "source": [
        "## Training & validation"
      ]
    },
    {
      "cell_type": "code",
      "execution_count": null,
      "metadata": {
        "id": "ho0b2AOw9yQl"
      },
      "outputs": [],
      "source": [
        "from transformers import get_linear_schedule_with_warmup\n",
        "\n",
        "# Number of training epochs. The BERT authors recommend between 2 and 4. \n",
        "# We chose to run for 4, but we'll see later that this may be over-fitting the\n",
        "# training data.\n",
        "epochs = EPOCHS\n",
        "\n",
        "# Total number of training steps is [number of batches] x [number of epochs]. \n",
        "# (Note that this is not the same as the number of training samples).\n",
        "total_steps = len(train_dataloader) * epochs\n",
        "\n",
        "# Create the learning rate scheduler.\n",
        "scheduler = get_linear_schedule_with_warmup(optimizer, \n",
        "                                            num_warmup_steps = 0, # Default value in run_glue.py\n",
        "                                            num_training_steps = total_steps)"
      ]
    },
    {
      "cell_type": "code",
      "execution_count": null,
      "metadata": {
        "id": "6kp-rlXd91tL"
      },
      "outputs": [],
      "source": [
        "import numpy as np\n",
        "\n",
        "# Function to calculate the accuracy of our predictions vs labels\n",
        "def flat_accuracy(preds, labels):\n",
        "    pred_flat = np.argmax(preds, axis=1).flatten()\n",
        "    labels_flat = labels.flatten()\n",
        "    return np.sum(pred_flat == labels_flat) / len(labels_flat)"
      ]
    },
    {
      "cell_type": "code",
      "execution_count": null,
      "metadata": {
        "id": "1k7N10eyHdV-"
      },
      "outputs": [],
      "source": [
        "from sklearn.metrics import confusion_matrix, roc_auc_score\n",
        "from scipy.special import softmax\n",
        "\n",
        "def val_metrics(preds, labels):\n",
        "  pred_flat = np.argmax(preds, axis=1).flatten()\n",
        "  labels_flat = labels.flatten()\n",
        "\n",
        "  tn, fp, fn, tp = confusion_matrix(y_true = labels_flat, y_pred = pred_flat).ravel()\n",
        "  precision = tp/(tp+fp)\n",
        "  recall = tp/(tp+fn)\n",
        "  f1 = 2*(precision*recall)/(precision+recall)\n",
        "  accuracy = (tp+tn)/(tp+tn+fp+fn)\n",
        "\n",
        "  # softmax_score = np.max(softmax(preds, axis = 1), axis = 1)\n",
        "  # auc_high_prob = roc_auc_score(y_true = labels_flat, y_score = softmax_score) #using scores for highest predicted prob/label\n",
        "\n",
        "  softmax_only_pos = softmax(preds, axis = 1)[:,1]\n",
        "  auc_only_pos = roc_auc_score(y_true = labels_flat, y_score = softmax_only_pos) #using scores only for positive class, regardless of label with higher score\n",
        "\n",
        "  result = {\n",
        "      \"Precision\": precision,\n",
        "      \"Recall\": recall,\n",
        "      \"F1\": f1,\n",
        "      \"Accuracy\": accuracy,\n",
        "      \"AUC\": auc_only_pos\n",
        "  }\n",
        "\n",
        "  return result"
      ]
    },
    {
      "cell_type": "code",
      "execution_count": null,
      "metadata": {
        "id": "ij_PqgKc95nA"
      },
      "outputs": [],
      "source": [
        "import time\n",
        "import datetime\n",
        "\n",
        "def format_time(elapsed):\n",
        "    '''\n",
        "    Takes a time in seconds and returns a string hh:mm:ss\n",
        "    '''\n",
        "    # Round to the nearest second.\n",
        "    elapsed_rounded = int(round((elapsed)))\n",
        "    \n",
        "    # Format as hh:mm:ss\n",
        "    return str(datetime.timedelta(seconds=elapsed_rounded))\n"
      ]
    },
    {
      "cell_type": "code",
      "execution_count": null,
      "metadata": {
        "colab": {
          "base_uri": "https://localhost:8080/",
          "height": 1000
        },
        "id": "6_XzDsb397Nm",
        "outputId": "e1036c18-c79a-464f-a599-e925fe835045"
      },
      "outputs": [
        {
          "name": "stdout",
          "output_type": "stream",
          "text": [
            "\n",
            "======== Epoch 1 / 2 ========\n",
            "Training...\n",
            "  Batch    40  of    205.    Elapsed: 0:28:13.\n",
            "  Batch    80  of    205.    Elapsed: 0:56:29.\n",
            "  Batch   120  of    205.    Elapsed: 1:24:58.\n",
            "  Batch   160  of    205.    Elapsed: 1:53:05.\n",
            "  Batch   200  of    205.    Elapsed: 2:21:09.\n",
            "\n",
            "  Average training loss: 0.23\n",
            "  Training epoch took: 2:24:07\n",
            "\n",
            "Running Validation...\n",
            "  Accuracy: 0.94\n",
            "  Validation Loss: 0.18\n",
            "  Validation took: 0:03:33\n",
            "\n",
            "======== Epoch 2 / 2 ========\n",
            "Training...\n",
            "  Batch    40  of    205.    Elapsed: 0:27:58.\n",
            "  Batch    80  of    205.    Elapsed: 0:56:13.\n",
            "  Batch   120  of    205.    Elapsed: 1:24:19.\n",
            "  Batch   160  of    205.    Elapsed: 1:52:26.\n",
            "  Batch   200  of    205.    Elapsed: 2:20:26.\n",
            "\n",
            "  Average training loss: 0.11\n",
            "  Training epoch took: 2:23:28\n",
            "\n",
            "Running Validation...\n",
            "  Accuracy: 0.94\n",
            "  Validation Loss: 0.19\n",
            "  Validation took: 0:03:34\n",
            "\n",
            "Training complete!\n",
            "Total training took 4:54:43 (h:mm:ss)\n"
          ]
        }
      ],
      "source": [
        "import random\n",
        "import numpy as np\n",
        "\n",
        "# This training code is based on the `run_glue.py` script here:\n",
        "# https://github.com/huggingface/transformers/blob/5bfcd0485ece086ebcbed2d008813037968a9e58/examples/run_glue.py#L128\n",
        "\n",
        "# Set the seed value all over the place to make this reproducible.\n",
        "seed_val = 42\n",
        "\n",
        "random.seed(seed_val)\n",
        "np.random.seed(seed_val)\n",
        "torch.manual_seed(seed_val)\n",
        "torch.cuda.manual_seed_all(seed_val)\n",
        "\n",
        "val_predictions , val_true_labels = [], []\n",
        "\n",
        "# We'll store a number of quantities such as training and validation loss, \n",
        "# validation accuracy, and timings.\n",
        "training_stats = []\n",
        "\n",
        "# Measure the total training time for the whole run.\n",
        "total_t0 = time.time()\n",
        "\n",
        "# For each epoch...\n",
        "for epoch_i in range(0, epochs):\n",
        "    \n",
        "    # ========================================\n",
        "    #               Training\n",
        "    # ========================================\n",
        "    \n",
        "    # Perform one full pass over the training set.\n",
        "\n",
        "    print(\"\")\n",
        "    print('======== Epoch {:} / {:} ========'.format(epoch_i + 1, epochs))\n",
        "    print('Training...')\n",
        "\n",
        "    # Measure how long the training epoch takes.\n",
        "    t0 = time.time()\n",
        "\n",
        "    # Reset the total loss for this epoch.\n",
        "    total_train_loss = 0\n",
        "\n",
        "    # Put the model into training mode. Don't be mislead--the call to \n",
        "    # `train` just changes the *mode*, it doesn't *perform* the training.\n",
        "    # `dropout` and `batchnorm` layers behave differently during training\n",
        "    # vs. test (source: https://stackoverflow.com/questions/51433378/what-does-model-train-do-in-pytorch)\n",
        "    model.train()\n",
        "\n",
        "    # For each batch of training data...\n",
        "    for step, batch in enumerate(train_dataloader):\n",
        "\n",
        "        # Progress update every 40 batches.\n",
        "        if step % 40 == 0 and not step == 0:\n",
        "            # Calculate elapsed time in minutes.\n",
        "            elapsed = format_time(time.time() - t0)\n",
        "            \n",
        "            # Report progress.\n",
        "            print('  Batch {:>5,}  of  {:>5,}.    Elapsed: {:}.'.format(step, len(train_dataloader), elapsed))\n",
        "\n",
        "        # Unpack this training batch from our dataloader. \n",
        "        #\n",
        "        # As we unpack the batch, we'll also copy each tensor to the GPU using the \n",
        "        # `to` method.\n",
        "        #\n",
        "        # `batch` contains three pytorch tensors:\n",
        "        #   [0]: input ids \n",
        "        #   [1]: attention masks\n",
        "        #   [2]: labels \n",
        "        b_input_ids = batch[0].to(device)\n",
        "        b_input_mask = batch[1].to(device)\n",
        "        b_labels = batch[2].to(device)\n",
        "\n",
        "        # Always clear any previously calculated gradients before performing a\n",
        "        # backward pass. PyTorch doesn't do this automatically because \n",
        "        # accumulating the gradients is \"convenient while training RNNs\". \n",
        "        # (source: https://stackoverflow.com/questions/48001598/why-do-we-need-to-call-zero-grad-in-pytorch)\n",
        "        model.zero_grad()        \n",
        "\n",
        "        # Perform a forward pass (evaluate the model on this training batch).\n",
        "        # The documentation for this `model` function is here: \n",
        "        # https://huggingface.co/transformers/v2.2.0/model_doc/bert.html#transformers.BertForSequenceClassification\n",
        "        # It returns different numbers of parameters depending on what arguments\n",
        "        # arge given and what flags are set. For our useage here, it returns\n",
        "        # the loss (because we provided labels) and the \"logits\"--the model\n",
        "        # outputs prior to activation.\n",
        "        loss, logits = model(b_input_ids, \n",
        "                             attention_mask=b_input_mask, \n",
        "                             labels=b_labels)\n",
        "\n",
        "        # Accumulate the training loss over all of the batches so that we can\n",
        "        # calculate the average loss at the end. `loss` is a Tensor containing a\n",
        "        # single value; the `.item()` function just returns the Python value \n",
        "        # from the tensor.\n",
        "        total_train_loss += loss.item()\n",
        "\n",
        "        # Perform a backward pass to calculate the gradients.\n",
        "        loss.backward()\n",
        "\n",
        "        # Clip the norm of the gradients to 1.0.\n",
        "        # This is to help prevent the \"exploding gradients\" problem.\n",
        "        torch.nn.utils.clip_grad_norm_(model.parameters(), 1.0)\n",
        "\n",
        "        # Update parameters and take a step using the computed gradient.\n",
        "        # The optimizer dictates the \"update rule\"--how the parameters are\n",
        "        # modified based on their gradients, the learning rate, etc.\n",
        "        optimizer.step()\n",
        "\n",
        "        # Update the learning rate.\n",
        "        scheduler.step()\n",
        "\n",
        "    # Calculate the average loss over all of the batches.\n",
        "    avg_train_loss = total_train_loss / len(train_dataloader)            \n",
        "    \n",
        "    # Measure how long this epoch took.\n",
        "    training_time = format_time(time.time() - t0)\n",
        "\n",
        "    print(\"\")\n",
        "    print(\"  Average training loss: {0:.2f}\".format(avg_train_loss))\n",
        "    print(\"  Training epoch took: {:}\".format(training_time))\n",
        "        \n",
        "    # ========================================\n",
        "    #               Validation\n",
        "    # ========================================\n",
        "    # After the completion of each training epoch, measure our performance on\n",
        "    # our validation set.\n",
        "\n",
        "    print(\"\")\n",
        "    print(\"Running Validation...\")\n",
        "\n",
        "    t0 = time.time()\n",
        "\n",
        "    # Put the model in evaluation mode--the dropout layers behave differently\n",
        "    # during evaluation.\n",
        "    model.eval()\n",
        "\n",
        "    # Tracking variables \n",
        "    total_eval_accuracy = 0\n",
        "    total_eval_loss = 0\n",
        "    nb_eval_steps = 0\n",
        "    total_eval_precision = 0\n",
        "    total_eval_recall = 0\n",
        "    total_eval_f1 = 0\n",
        "    total_eval_accur = 0\n",
        "    total_eval_auc = 0\n",
        "\n",
        "    # val_predictions , val_true_labels = [], []\n",
        "\n",
        "    # Evaluate data for one epoch\n",
        "    for batch in validation_dataloader:\n",
        "        \n",
        "        # Unpack this training batch from our dataloader. \n",
        "        #\n",
        "        # As we unpack the batch, we'll also copy each tensor to the GPU using \n",
        "        # the `to` method.\n",
        "        #\n",
        "        # `batch` contains three pytorch tensors:\n",
        "        #   [0]: input ids \n",
        "        #   [1]: attention masks\n",
        "        #   [2]: labels \n",
        "        b_input_ids = batch[0].to(device)\n",
        "        b_input_mask = batch[1].to(device)\n",
        "        b_labels = batch[2].to(device)\n",
        "        \n",
        "        # Tell pytorch not to bother with constructing the compute graph during\n",
        "        # the forward pass, since this is only needed for backprop (training).\n",
        "        with torch.no_grad():        \n",
        "\n",
        "            # Forward pass, calculate logit predictions.\n",
        "            # token_type_ids is the same as the \"segment ids\", which \n",
        "            # differentiates sentence 1 and 2 in 2-sentence tasks.\n",
        "            # The documentation for this `model` function is here: \n",
        "            # https://huggingface.co/transformers/v2.2.0/model_doc/bert.html#transformers.BertForSequenceClassification\n",
        "            # Get the \"logits\" output by the model. The \"logits\" are the output\n",
        "            # values prior to applying an activation function like the softmax.\n",
        "            (loss, logits) = model(b_input_ids, \n",
        "                                   attention_mask=b_input_mask,\n",
        "                                   labels=b_labels)\n",
        "            \n",
        "        # Accumulate the validation loss.\n",
        "        total_eval_loss += loss.item()\n",
        "\n",
        "        # Move logits and labels to CPU\n",
        "        logits = logits.detach().cpu().numpy()\n",
        "        label_ids = b_labels.to('cpu').numpy()\n",
        "\n",
        "        # Store predictions and true labels\n",
        "        val_predictions.append(logits)\n",
        "        val_true_labels.append(label_ids)\n",
        "\n",
        "        # Calculate the accuracy for this batch of test sentences, and\n",
        "        # accumulate it over all batches.\n",
        "        total_eval_accuracy += flat_accuracy(logits, label_ids)\n",
        "\n",
        "        # Calculate other metrics and accumulate over all batches\n",
        "        these_val_metrics = val_metrics(logits, label_ids)\n",
        "        total_eval_precision += these_val_metrics[\"Precision\"]\n",
        "        total_eval_recall += these_val_metrics[\"Recall\"]\n",
        "        total_eval_f1 += these_val_metrics[\"F1\"]\n",
        "        total_eval_accur += these_val_metrics[\"Accuracy\"]\n",
        "        total_eval_auc += these_val_metrics[\"AUC\"]\n",
        "       \n",
        "\n",
        "    # Report the final accuracy for this validation run.\n",
        "    avg_val_accuracy = total_eval_accuracy / len(validation_dataloader)\n",
        "    print(\"  Accuracy: {0:.2f}\".format(avg_val_accuracy))\n",
        "\n",
        "    # Calculate the average loss over all of the batches.\n",
        "    avg_val_loss = total_eval_loss / len(validation_dataloader)\n",
        "\n",
        "    # Calculate other metrics\n",
        "    avg_eval_precision = total_eval_precision/len(validation_dataloader)\n",
        "    avg_eval_recall = total_eval_recall/len(validation_dataloader)\n",
        "    avg_eval_f1 = total_eval_f1/len(validation_dataloader)\n",
        "    avg_eval_accur = total_eval_accur/len(validation_dataloader)\n",
        "    avg_eval_auc = total_eval_auc/len(validation_dataloader)\n",
        "\n",
        "    \n",
        "    # Measure how long the validation run took.\n",
        "    validation_time = format_time(time.time() - t0)\n",
        "    \n",
        "    print(\"  Validation Loss: {0:.2f}\".format(avg_val_loss))\n",
        "    print(\"  Validation took: {:}\".format(validation_time))\n",
        "\n",
        "    # Record all statistics from this epoch.\n",
        "    training_stats.append(\n",
        "        {\n",
        "            'epoch': epoch_i + 1,\n",
        "            'Training Loss': avg_train_loss,\n",
        "            'Valid. Loss': avg_val_loss,\n",
        "            'Valid. Accur.': avg_val_accuracy,\n",
        "            'Training Time': training_time,\n",
        "            'Validation Time': validation_time,\n",
        "            'Avg. Precision': avg_eval_precision,\n",
        "            'Avg. Recall': avg_eval_recall,\n",
        "            'Avg. F1': avg_eval_f1,\n",
        "            'Avg. Accuracy': avg_eval_accur,\n",
        "            'Avg. AUC': avg_eval_auc\n",
        "        }\n",
        "    )\n",
        "\n",
        "print(\"\")\n",
        "print(\"Training complete!\")\n",
        "\n",
        "print(\"Total training took {:} (h:mm:ss)\".format(format_time(time.time()-total_t0)))"
      ]
    },
    {
      "cell_type": "code",
      "execution_count": null,
      "metadata": {
        "colab": {
          "base_uri": "https://localhost:8080/",
          "height": 144
        },
        "id": "7QWoQtgZ99Ux",
        "outputId": "1e5e900b-6282-4075-8a7e-2a3199750aa2"
      },
      "outputs": [
        {
          "data": {
            "text/html": [
              "<div>\n",
              "<style scoped>\n",
              "    .dataframe tbody tr th:only-of-type {\n",
              "        vertical-align: middle;\n",
              "    }\n",
              "\n",
              "    .dataframe tbody tr th {\n",
              "        vertical-align: top;\n",
              "    }\n",
              "\n",
              "    .dataframe thead th {\n",
              "        text-align: right;\n",
              "    }\n",
              "</style>\n",
              "<table border=\"1\" class=\"dataframe\">\n",
              "  <thead>\n",
              "    <tr style=\"text-align: right;\">\n",
              "      <th></th>\n",
              "      <th>Training Loss</th>\n",
              "      <th>Valid. Loss</th>\n",
              "      <th>Valid. Accur.</th>\n",
              "      <th>Training Time</th>\n",
              "      <th>Validation Time</th>\n",
              "      <th>Avg. Precision</th>\n",
              "      <th>Avg. Recall</th>\n",
              "      <th>Avg. F1</th>\n",
              "      <th>Avg. Accuracy</th>\n",
              "      <th>Avg. AUC</th>\n",
              "    </tr>\n",
              "    <tr>\n",
              "      <th>epoch</th>\n",
              "      <th></th>\n",
              "      <th></th>\n",
              "      <th></th>\n",
              "      <th></th>\n",
              "      <th></th>\n",
              "      <th></th>\n",
              "      <th></th>\n",
              "      <th></th>\n",
              "      <th></th>\n",
              "      <th></th>\n",
              "    </tr>\n",
              "  </thead>\n",
              "  <tbody>\n",
              "    <tr>\n",
              "      <th>1</th>\n",
              "      <td>0.233</td>\n",
              "      <td>0.175</td>\n",
              "      <td>0.939</td>\n",
              "      <td>2:24:07</td>\n",
              "      <td>0:03:33</td>\n",
              "      <td>0.952</td>\n",
              "      <td>0.926</td>\n",
              "      <td>0.937</td>\n",
              "      <td>0.939</td>\n",
              "      <td>0.981</td>\n",
              "    </tr>\n",
              "    <tr>\n",
              "      <th>2</th>\n",
              "      <td>0.105</td>\n",
              "      <td>0.189</td>\n",
              "      <td>0.940</td>\n",
              "      <td>2:23:28</td>\n",
              "      <td>0:03:34</td>\n",
              "      <td>0.934</td>\n",
              "      <td>0.952</td>\n",
              "      <td>0.940</td>\n",
              "      <td>0.940</td>\n",
              "      <td>0.982</td>\n",
              "    </tr>\n",
              "  </tbody>\n",
              "</table>\n",
              "</div>"
            ],
            "text/plain": [
              "       Training Loss  Valid. Loss  Valid. Accur. Training Time  \\\n",
              "epoch                                                            \n",
              "1              0.233        0.175          0.939       2:24:07   \n",
              "2              0.105        0.189          0.940       2:23:28   \n",
              "\n",
              "      Validation Time  Avg. Precision  Avg. Recall  Avg. F1  Avg. Accuracy  \\\n",
              "epoch                                                                        \n",
              "1             0:03:33           0.952        0.926    0.937          0.939   \n",
              "2             0:03:34           0.934        0.952    0.940          0.940   \n",
              "\n",
              "       Avg. AUC  \n",
              "epoch            \n",
              "1         0.981  \n",
              "2         0.982  "
            ]
          },
          "execution_count": 69,
          "metadata": {},
          "output_type": "execute_result"
        }
      ],
      "source": [
        "import pandas as pd\n",
        "\n",
        "# Display floats with two decimal places.\n",
        "pd.set_option('precision', 3)\n",
        "\n",
        "# Create a DataFrame from our training statistics.\n",
        "df_stats = pd.DataFrame(data=training_stats)\n",
        "\n",
        "# Use the 'epoch' as the row index.\n",
        "df_stats = df_stats.set_index('epoch')\n",
        "\n",
        "# Display the table.\n",
        "df_stats"
      ]
    },
    {
      "cell_type": "code",
      "execution_count": null,
      "metadata": {
        "colab": {
          "base_uri": "https://localhost:8080/",
          "height": 121
        },
        "id": "H0l_qdl-KM1w",
        "outputId": "dff4a06d-7a50-4440-9403-4168c41f2dcf"
      },
      "outputs": [
        {
          "data": {
            "text/plain": [
              "Avg. Precision    0.943\n",
              "Avg. Recall       0.939\n",
              "Avg. F1           0.938\n",
              "Avg. Accuracy     0.939\n",
              "Avg. AUC          0.982\n",
              "Name: mean, dtype: float64"
            ]
          },
          "execution_count": 70,
          "metadata": {},
          "output_type": "execute_result"
        }
      ],
      "source": [
        "df_stats.describe().loc[\"mean\",[\"Avg. Precision\",\"Avg. Recall\", \"Avg. F1\", \"Avg. Accuracy\", \"Avg. AUC\"]]"
      ]
    },
    {
      "cell_type": "code",
      "execution_count": null,
      "metadata": {
        "colab": {
          "base_uri": "https://localhost:8080/",
          "height": 482
        },
        "id": "3InkddgM_M4M",
        "outputId": "bba3d28a-2b73-489f-8d16-41c6920d2215"
      },
      "outputs": [
        {
          "data": {
            "image/png": "[encoded data removed]",
            "text/plain": [
              "<Figure size 864x432 with 1 Axes>"
            ]
          },
          "metadata": {},
          "output_type": "display_data"
        }
      ],
      "source": [
        "import matplotlib.pyplot as plt\n",
        "%matplotlib inline\n",
        "\n",
        "import seaborn as sns\n",
        "\n",
        "# Use plot styling from seaborn.\n",
        "sns.set(style='darkgrid')\n",
        "\n",
        "# Increase the plot size and font size.\n",
        "sns.set(font_scale=1.5)\n",
        "plt.rcParams[\"figure.figsize\"] = (12,6)\n",
        "\n",
        "# Plot the learning curve.\n",
        "plt.plot(df_stats['Training Loss'], 'b-o', label=\"Training\")\n",
        "plt.plot(df_stats['Valid. Loss'], 'g-o', label=\"Validation\")\n",
        "\n",
        "# Label the plot.\n",
        "plt.title(\"Training & Validation Loss\")\n",
        "plt.xlabel(\"Epoch\")\n",
        "plt.ylabel(\"Loss\")\n",
        "plt.legend()\n",
        "plt.xticks(range(1,EPOCHS+1))\n",
        "\n",
        "plt.show()"
      ]
    },
    {
      "cell_type": "code",
      "execution_count": null,
      "metadata": {
        "colab": {
          "base_uri": "https://localhost:8080/",
          "height": 427
        },
        "id": "vj9bdFjwFNDn",
        "outputId": "8367df03-3a6d-4ce6-eec4-749765ba72ed"
      },
      "outputs": [
        {
          "data": {
            "image/png": "[encoded data removed]",
            "text/plain": [
              "<Figure size 864x432 with 1 Axes>"
            ]
          },
          "metadata": {},
          "output_type": "display_data"
        }
      ],
      "source": [
        "plt.plot(df_stats['Avg. Accuracy'], 'b-o', label=\"Avg. Accuracy\")\n",
        "plt.plot(df_stats['Avg. F1'], 'g-o', label=\"Avg. F1\")\n",
        "plt.plot(df_stats['Avg. AUC'], 'r-o', label=\"Avg. AUC\")\n",
        "\n",
        "# Label the plot.\n",
        "plt.title(\"Validation Metrics\")\n",
        "plt.xlabel(\"Epoch\")\n",
        "plt.ylabel(\"Percentage\")\n",
        "plt.legend()\n",
        "plt.xticks(range(1,EPOCHS+1))\n",
        "\n",
        "plt.show()"
      ]
    },
    {
      "cell_type": "markdown",
      "metadata": {
        "id": "kpuAsUofWYwS"
      },
      "source": [
        "# Generate predictions on test set"
      ]
    },
    {
      "cell_type": "code",
      "execution_count": null,
      "metadata": {
        "id": "Zo5cEI2GKB-C",
        "outputId": "50b2b73b-2f09-4aee-af16-a9778b037116"
      },
      "outputs": [
        {
          "name": "stdout",
          "output_type": "stream",
          "text": [
            "Number of training sentences: 1,816\n",
            "\n"
          ]
        }
      ],
      "source": [
        "\n",
        "# Report the number of sentences.\n",
        "print('Number of training sentences: {:,}\\n'.format(test.shape[0]))"
      ]
    },
    {
      "cell_type": "code",
      "execution_count": null,
      "metadata": {
        "id": "WCZLsrgcKB-D",
        "outputId": "4b724c74-26f5-4701-ce9c-18c9a23f4f0e"
      },
      "outputs": [
        {
          "data": {
            "text/html": [
              "<div>\n",
              "<style scoped>\n",
              "    .dataframe tbody tr th:only-of-type {\n",
              "        vertical-align: middle;\n",
              "    }\n",
              "\n",
              "    .dataframe tbody tr th {\n",
              "        vertical-align: top;\n",
              "    }\n",
              "\n",
              "    .dataframe thead th {\n",
              "        text-align: right;\n",
              "    }\n",
              "</style>\n",
              "<table border=\"1\" class=\"dataframe\">\n",
              "  <thead>\n",
              "    <tr style=\"text-align: right;\">\n",
              "      <th></th>\n",
              "      <th>Created</th>\n",
              "      <th>sentence</th>\n",
              "      <th>label</th>\n",
              "      <th>category</th>\n",
              "      <th>Date</th>\n",
              "      <th>Month</th>\n",
              "      <th>Month-str-full</th>\n",
              "    </tr>\n",
              "  </thead>\n",
              "  <tbody>\n",
              "    <tr>\n",
              "      <th>130</th>\n",
              "      <td>2020-06-22 15:15:25 CDT</td>\n",
              "      <td>Anyone who does go on vacation should self-mon...</td>\n",
              "      <td>1</td>\n",
              "      <td>JUNE_TV</td>\n",
              "      <td>2020-06-22 15:15:25</td>\n",
              "      <td>6.0</td>\n",
              "      <td>June</td>\n",
              "    </tr>\n",
              "    <tr>\n",
              "      <th>576</th>\n",
              "      <td>2020-04-20 19:00:02 CDT</td>\n",
              "      <td>RAGBRAI cyclists won't be pedaling their way a...</td>\n",
              "      <td>1</td>\n",
              "      <td>APR_NP</td>\n",
              "      <td>2020-04-20 19:00:02</td>\n",
              "      <td>4.0</td>\n",
              "      <td>April</td>\n",
              "    </tr>\n",
              "    <tr>\n",
              "      <th>10</th>\n",
              "      <td>2020-04-20 13:15:00 CDT</td>\n",
              "      <td>For another year, the Great Smoky Mountains is...</td>\n",
              "      <td>0</td>\n",
              "      <td>APR_TV</td>\n",
              "      <td>2020-04-20 13:15:00</td>\n",
              "      <td>4.0</td>\n",
              "      <td>April</td>\n",
              "    </tr>\n",
              "  </tbody>\n",
              "</table>\n",
              "</div>"
            ],
            "text/plain": [
              "                     Created  \\\n",
              "130  2020-06-22 15:15:25 CDT   \n",
              "576  2020-04-20 19:00:02 CDT   \n",
              "10   2020-04-20 13:15:00 CDT   \n",
              "\n",
              "                                              sentence  label category  \\\n",
              "130  Anyone who does go on vacation should self-mon...      1  JUNE_TV   \n",
              "576  RAGBRAI cyclists won't be pedaling their way a...      1   APR_NP   \n",
              "10   For another year, the Great Smoky Mountains is...      0   APR_TV   \n",
              "\n",
              "                   Date  Month Month-str-full  \n",
              "130 2020-06-22 15:15:25    6.0           June  \n",
              "576 2020-04-20 19:00:02    4.0          April  \n",
              "10  2020-04-20 13:15:00    4.0          April  "
            ]
          },
          "execution_count": 74,
          "metadata": {},
          "output_type": "execute_result"
        }
      ],
      "source": [
        "test.sample(3)"
      ]
    },
    {
      "cell_type": "code",
      "execution_count": null,
      "metadata": {
        "id": "vBGgclwqKB-D"
      },
      "outputs": [],
      "source": [
        "# START HERE #\n",
        "# Create sentence and label lists\n",
        "sentences = test.sentence.values\n",
        "labels = test[THESE_LABELS].values"
      ]
    },
    {
      "cell_type": "code",
      "execution_count": null,
      "metadata": {
        "id": "6C6wL_ISD-yt",
        "outputId": "51f95e3f-5663-4196-8de5-32532bbe2ced"
      },
      "outputs": [
        {
          "name": "stderr",
          "output_type": "stream",
          "text": [
            "/Users/yujinkim/opt/anaconda3/lib/python3.8/site-packages/transformers/tokenization_utils_base.py:1764: FutureWarning: The `pad_to_max_length` argument is deprecated and will be removed in a future version, use `padding=True` or `padding='longest'` to pad to the longest sequence in the batch, or use `padding='max_length'` to pad to a max length. In this case, you can give a specific length with `max_length` (e.g. `max_length=45`) or leave max_length to None to pad to the maximal input size of the model (e.g. 512 for Bert).\n",
            "  warnings.warn(\n"
          ]
        }
      ],
      "source": [
        "# Tokenize all of the sentences and map the tokens to thier word IDs.\n",
        "input_ids = []\n",
        "attention_masks = []\n",
        "\n",
        "# For every sentence...\n",
        "for sent in sentences:\n",
        "    # `encode_plus` will:\n",
        "    #   (1) Tokenize the sentence.\n",
        "    #   (2) Prepend the `[CLS]` token to the start.\n",
        "    #   (3) Append the `[SEP]` token to the end.\n",
        "    #   (4) Map tokens to their IDs.\n",
        "    #   (5) Pad or truncate the sentence to `max_length`\n",
        "    #   (6) Create attention masks for [PAD] tokens.\n",
        "    encoded_dict = tokenizer.encode_plus(\n",
        "                        sent,                      # Sentence to encode.\n",
        "                        add_special_tokens = True, # Add '[CLS]' and '[SEP]'\n",
        "                        max_length = max_len,           # Pad & truncate all sentences.\n",
        "                        truncation = True,\n",
        "                        pad_to_max_length = True,\n",
        "                        return_attention_mask = True,   # Construct attn. masks.\n",
        "                        return_tensors = 'pt',     # Return pytorch tensors.\n",
        "                   )\n",
        "    \n",
        "    # Add the encoded sentence to the list.    \n",
        "    input_ids.append(encoded_dict['input_ids'])\n",
        "    \n",
        "    # And its attention mask (simply differentiates padding from non-padding).\n",
        "    attention_masks.append(encoded_dict['attention_mask'])\n",
        "\n",
        "# Convert the lists into tensors.\n",
        "input_ids = torch.cat(input_ids, dim=0)\n",
        "attention_masks = torch.cat(attention_masks, dim=0)\n",
        "labels = torch.tensor(labels)\n",
        "\n",
        "# Create the DataLoader.\n",
        "prediction_data = TensorDataset(input_ids, attention_masks, labels)\n",
        "prediction_sampler = SequentialSampler(prediction_data)\n",
        "prediction_dataloader = DataLoader(prediction_data, sampler=prediction_sampler, batch_size = BATCH_SIZE)"
      ]
    },
    {
      "cell_type": "code",
      "execution_count": null,
      "metadata": {
        "colab": {
          "base_uri": "https://localhost:8080/",
          "height": 52
        },
        "id": "vWvp6JKsE1dN",
        "outputId": "721b00b9-c3cd-4b7f-8e93-cd79869b6c9f"
      },
      "outputs": [
        {
          "name": "stdout",
          "output_type": "stream",
          "text": [
            "Predicting labels for 1,816 test sentences...\n",
            "    DONE.\n"
          ]
        }
      ],
      "source": [
        "# Prediction on test set\n",
        "\n",
        "print('Predicting labels for {:,} test sentences...'.format(len(input_ids)))\n",
        "\n",
        "# Put model in evaluation mode\n",
        "model.eval()\n",
        "\n",
        "# Tracking variables \n",
        "test_predictions , test_true_labels = [], []\n",
        "\n",
        "# Predict \n",
        "for batch in prediction_dataloader:\n",
        "  # Add batch to GPU\n",
        "  batch = tuple(t.to(device) for t in batch)\n",
        "  \n",
        "  # Unpack the inputs from our dataloader\n",
        "  b_input_ids, b_input_mask, b_labels = batch\n",
        "  \n",
        "  # Telling the model not to compute or store gradients, saving memory and \n",
        "  # speeding up prediction\n",
        "  with torch.no_grad():\n",
        "      # Forward pass, calculate logit predictions\n",
        "      outputs = model(b_input_ids, attention_mask=b_input_mask)\n",
        "\n",
        "  logits = outputs[0]\n",
        "\n",
        "  # Move logits and labels to CPU\n",
        "  logits = logits.detach().cpu().numpy()\n",
        "  label_ids = b_labels.to('cpu').numpy()\n",
        "  \n",
        "  # Store predictions and true labels\n",
        "  test_predictions.append(logits)\n",
        "  test_true_labels.append(label_ids)\n",
        "\n",
        "print('    DONE.')"
      ]
    },
    {
      "cell_type": "markdown",
      "metadata": {
        "id": "xKn4CmavWSTd"
      },
      "source": [
        "## Process prediction results"
      ]
    },
    {
      "cell_type": "code",
      "execution_count": null,
      "metadata": {
        "id": "MOwwQrpJL9yP"
      },
      "outputs": [],
      "source": [
        "from scipy.special import softmax\n",
        "from sklearn.metrics import confusion_matrix\n",
        "from sklearn.metrics import roc_auc_score"
      ]
    },
    {
      "cell_type": "code",
      "execution_count": null,
      "metadata": {
        "colab": {
          "base_uri": "https://localhost:8080/",
          "height": 208
        },
        "id": "HkQ94PYbFVEB",
        "outputId": "a47e2e0d-a126-4e66-b62d-60fa98e271cb"
      },
      "outputs": [
        {
          "name": "stdout",
          "output_type": "stream",
          "text": [
            "TN: 881\n",
            "FP: 47\n",
            "FN: 47\n",
            "TP: 841\n",
            "\n",
            "\n",
            "Precision: 0.947\n",
            "Recall: 0.947\n",
            "F1: 0.947\n",
            "Accuracy: 0.948\n",
            "AUC: 0.979\n"
          ]
        }
      ],
      "source": [
        "# Combine the results across all batches. \n",
        "flat_test_predictions = np.concatenate(test_predictions, axis=0)\n",
        "\n",
        "# For each sample, pick the label (0 or 1) with the higher score.\n",
        "flat_test_predictions = np.argmax(flat_test_predictions, axis=1).flatten()\n",
        "\n",
        "# Combine the correct labels for each batch into a single list.\n",
        "flat_test_true_labels = np.concatenate(test_true_labels, axis=0)\n",
        "\n",
        "tn, fp, fn, tp = confusion_matrix(y_true = flat_test_true_labels, y_pred = flat_test_predictions).ravel()\n",
        "print(f\"TN: {tn}\\nFP: {fp}\\nFN: {fn}\\nTP: {tp}\")\n",
        "print(\"\\n\")\n",
        "\n",
        "precision = tp/(tp+fp)\n",
        "recall = tp/(tp+fn)\n",
        "f1 = 2*(precision*recall)/(precision+recall)\n",
        "accuracy = (tp+tn)/(tp+tn+fp+fn)\n",
        "print(f\"Precision: {round(precision,3)}\")\n",
        "print(f\"Recall: {round(recall,3)}\")\n",
        "print(f\"F1: {round(f1,3)}\")\n",
        "print(f\"Accuracy: {round(accuracy,3)}\")\n",
        "\n",
        "softmax_score = softmax(np.concatenate(test_predictions, axis=0), axis = 1)[:,1] #using scores only for positive class, regardless of label with higher score\n",
        "auc = roc_auc_score(y_true = flat_test_true_labels, y_score = softmax_score) \n",
        "print(f\"AUC: {round(auc,3)}\")"
      ]
    },
    {
      "cell_type": "markdown",
      "metadata": {
        "id": "7uZrgJZNWM9Y"
      },
      "source": [
        "# Save model"
      ]
    },
    {
      "cell_type": "code",
      "execution_count": null,
      "metadata": {
        "id": "CuxEdhSNFWR9",
        "outputId": "098ba29b-fec9-458b-88ae-15efe87f5e3a"
      },
      "outputs": [
        {
          "name": "stdout",
          "output_type": "stream",
          "text": [
            "Saving model to ./save_models/\n"
          ]
        },
        {
          "data": {
            "text/plain": [
              "('./save_models/vocab.txt',\n",
              " './save_models/special_tokens_map.json',\n",
              " './save_models/added_tokens.json')"
            ]
          },
          "execution_count": 123,
          "metadata": {},
          "output_type": "execute_result"
        }
      ],
      "source": [
        "import os\n",
        "\n",
        "# Saving best-practices: if you use defaults names for the model, you can reload it using from_pretrained()\n",
        "\n",
        "output_dir = './save_models/'\n",
        "\n",
        "# Create output directory if needed\n",
        "if not os.path.exists(output_dir):\n",
        "    os.makedirs(output_dir)\n",
        "\n",
        "print(\"Saving model to %s\" % output_dir)\n",
        "\n",
        "# Save a trained model, configuration and tokenizer using `save_pretrained()`.\n",
        "# They can then be reloaded using `from_pretrained()`\n",
        "model_to_save = model.module if hasattr(model, 'module') else model  # Take care of distributed/parallel training\n",
        "model_to_save.save_pretrained(output_dir)\n",
        "tokenizer.save_pretrained(output_dir)\n",
        "\n",
        "# Good practice: save your training arguments together with the trained model\n",
        "# torch.save(args, os.path.join(output_dir, 'training_args.bin'))"
      ]
    },
    {
      "cell_type": "code",
      "execution_count": null,
      "metadata": {
        "id": "ax9LfmdaKB-R",
        "outputId": "fb3753ee-f7dc-4cbf-b85e-e3b8f1b5d9e8"
      },
      "outputs": [
        {
          "ename": "NameError",
          "evalue": "name 'tokenizer_class' is not defined",
          "output_type": "error",
          "traceback": [
            "\u001b[0;31m---------------------------------------------------------------------------\u001b[0m",
            "\u001b[0;31mNameError\u001b[0m                                 Traceback (most recent call last)",
            "\u001b[0;32m<ipython-input-83-e1041cd8eb29>\u001b[0m in \u001b[0;36m<module>\u001b[0;34m\u001b[0m\n\u001b[1;32m      1\u001b[0m \u001b[0;31m# Load a trained model and vocabulary that you have fine-tuned\u001b[0m\u001b[0;34m\u001b[0m\u001b[0;34m\u001b[0m\u001b[0;34m\u001b[0m\u001b[0m\n\u001b[1;32m      2\u001b[0m \u001b[0;31m#model = model_class.from_pretrained(output_dir)\u001b[0m\u001b[0;34m\u001b[0m\u001b[0;34m\u001b[0m\u001b[0;34m\u001b[0m\u001b[0m\n\u001b[0;32m----> 3\u001b[0;31m \u001b[0mtokenizer\u001b[0m \u001b[0;34m=\u001b[0m \u001b[0mtokenizer_class\u001b[0m\u001b[0;34m.\u001b[0m\u001b[0mfrom_pretrained\u001b[0m\u001b[0;34m(\u001b[0m\u001b[0moutput_dir\u001b[0m\u001b[0;34m)\u001b[0m\u001b[0;34m\u001b[0m\u001b[0;34m\u001b[0m\u001b[0m\n\u001b[0m\u001b[1;32m      4\u001b[0m \u001b[0;34m\u001b[0m\u001b[0m\n\u001b[1;32m      5\u001b[0m \u001b[0;31m# Copy the model to the GPU.\u001b[0m\u001b[0;34m\u001b[0m\u001b[0;34m\u001b[0m\u001b[0;34m\u001b[0m\u001b[0m\n",
            "\u001b[0;31mNameError\u001b[0m: name 'tokenizer_class' is not defined"
          ]
        }
      ],
      "source": [
        "# Load a trained model and vocabulary that you have fine-tuned\n",
        "model = model_class.from_pretrained(output_dir)\n",
        "tokenizer = tokenizer_class.from_pretrained(output_dir)\n",
        "\n",
        "# Copy the model to the GPU.\n",
        "model.to(device)"
      ]
    },
    {
      "cell_type": "markdown",
      "source": [
        "## Load previous model and predict"
      ],
      "metadata": {
        "id": "4-SkIVB5UWuy"
      }
    },
    {
      "cell_type": "code",
      "source": [
        "#Output file name\n",
        "import datetime\n",
        "now = datetime.datetime.now()\n",
        "OUTPUT_FNAME = f\"{now.year}-{now.month}-{now.day}_{now.hour}{now.minute}_{THESE_LABELS}_predictions.csv\"\n",
        "print(\"This will be the name of the output file: \", OUTPUT_FNAME)\n"
      ],
      "metadata": {
        "id": "6J2ZZie4UqoS"
      },
      "execution_count": null,
      "outputs": []
    },
    {
      "cell_type": "code",
      "source": [
        "# merge multiple columns into one column\n",
        "\n",
        "import pandas as pd   \n",
        "new_predictions = pd.read_csv(\"new_predictions.csv\")\n",
        "\n",
        "\n",
        "cols = ['Message', 'Link Text', 'Description']\n",
        "\n",
        "new_predictions['sentence'] = new_predictions[cols].apply(\n",
        "    lambda x: ' '.join(x.dropna().astype(str)),\n",
        "    axis=1\n",
        ")\n",
        "\n",
        "sentences = new_predictions.sentence.values\n"
      ],
      "metadata": {
        "id": "ybYYx8kPUiHY"
      },
      "execution_count": null,
      "outputs": []
    },
    {
      "cell_type": "code",
      "source": [
        "# Tokenize all of the sentences and map the tokens to thier word IDs.\n",
        "input_ids = []\n",
        "attention_masks = []\n",
        "\n",
        "# For every sentence...\n",
        "for sent in sentences:\n",
        "    # `encode_plus` will:\n",
        "    #   (1) Tokenize the sentence.\n",
        "    #   (2) Prepend the `[CLS]` token to the start.\n",
        "    #   (3) Append the `[SEP]` token to the end.\n",
        "    #   (4) Map tokens to their IDs.\n",
        "    #   (5) Pad or truncate the sentence to `max_length`\n",
        "    #   (6) Create attention masks for [PAD] tokens.\n",
        "    encoded_dict = tokenizer.encode_plus(\n",
        "                        sent,                      # Sentence to encode.\n",
        "                        add_special_tokens = True, # Add '[CLS]' and '[SEP]'\n",
        "                        max_length = max_len,           # Pad & truncate all sentences.\n",
        "                        truncation = True,\n",
        "                        pad_to_max_length = True,\n",
        "                        return_attention_mask = True,   # Construct attn. masks.\n",
        "                        return_tensors = 'pt',     # Return pytorch tensors.\n",
        "                   )\n",
        "    \n",
        "    # Add the encoded sentence to the list.    \n",
        "    input_ids.append(encoded_dict['input_ids'])\n",
        "    \n",
        "    # And its attention mask (simply differentiates padding from non-padding).\n",
        "    attention_masks.append(encoded_dict['attention_mask'])\n",
        "\n",
        "# Convert the lists into tensors.\n",
        "input_ids = torch.cat(input_ids, dim=0)\n",
        "attention_masks = torch.cat(attention_masks, dim=0)\n",
        "#labels = torch.tensor(labels)\n",
        "\n",
        "# Create the DataLoader.\n",
        "#prediction_data = TensorDataset(input_ids, attention_masks, labels)\n",
        "prediction_data = TensorDataset(input_ids, attention_masks)\n",
        "\n",
        "prediction_sampler = SequentialSampler(prediction_data)\n",
        "prediction_dataloader = DataLoader(prediction_data, sampler=prediction_sampler, batch_size = BATCH_SIZE)"
      ],
      "metadata": {
        "id": "yrWfld18V15q"
      },
      "execution_count": null,
      "outputs": []
    },
    {
      "cell_type": "code",
      "source": [
        "# Prediction on test set\n",
        "\n",
        "t0 = time.time()\n",
        "\n",
        "print('Predicting labels for {:,} test sentences...'.format(len(input_ids)))\n",
        "\n",
        "# Put model in evaluation mode\n",
        "model.eval()\n",
        "\n",
        "# Tracking variables \n",
        "test_predictions , test_true_labels = [], []\n",
        "\n",
        "# Predict \n",
        "for batch in prediction_dataloader:\n",
        "  # Add batch to GPU\n",
        "  batch = tuple(t.to(device) for t in batch)\n",
        "  \n",
        "  # Unpack the inputs from our dataloader\n",
        "  b_input_ids, b_input_mask = batch\n",
        "  \n",
        "  # Telling the model not to compute or store gradients, saving memory and \n",
        "  # speeding up prediction\n",
        "  with torch.no_grad():\n",
        "      # Forward pass, calculate logit predictions\n",
        "      outputs = model(b_input_ids, attention_mask=b_input_mask)\n",
        "\n",
        "  logits = outputs[0]\n",
        "\n",
        "  # Move logits and labels to CPU\n",
        "  logits = logits.detach().cpu().numpy()\n",
        "  label_ids = b_labels.to('cpu').numpy()\n",
        "  \n",
        "  # Store predictions and true labels\n",
        "  test_predictions.append(logits)\n",
        "  test_true_labels.append(label_ids)\n",
        "\n",
        "print('    DONE.')\n",
        "print(\"Total prediction took {:} (h:mm:ss)\".format(format_time(time.time()-t0)))"
      ],
      "metadata": {
        "id": "iNBXHicXV1td"
      },
      "execution_count": null,
      "outputs": []
    },
    {
      "cell_type": "code",
      "source": [
        "from scipy.special import softmax\n",
        "from sklearn.metrics import confusion_matrix\n",
        "from sklearn.metrics import roc_auc_score\n",
        "\n",
        "# Combine the results across all batches. \n",
        "flat_test_predictions = np.concatenate(test_predictions, axis=0)\n",
        "\n",
        "# For each sample, pick the label (0 or 1) with the higher score.\n",
        "flat_test_predictions = np.argmax(flat_test_predictions, axis=1).flatten()\n",
        "\n",
        "# # Combine the correct labels for each batch into a single list.\n",
        "# flat_test_true_labels = np.concatenate(test_true_labels, axis=0)\n",
        "\n",
        "# tn, fp, fn, tp = confusion_matrix(y_true = flat_test_true_labels, y_pred = flat_test_predictions).ravel()\n",
        "# print(f\"TN: {tn}\\nFP: {fp}\\nFN: {fn}\\nTP: {tp}\")\n",
        "# print(\"\\n\")\n",
        "\n",
        "# precision = tp/(tp+fp)\n",
        "# recall = tp/(tp+fn)\n",
        "# f1 = 2*(precision*recall)/(precision+recall)\n",
        "# accuracy = (tp+tn)/(tp+tn+fp+fn)\n",
        "# print(f\"Precision: {round(precision,3)}\")\n",
        "# print(f\"Recall: {round(recall,3)}\")\n",
        "# print(f\"F1: {round(f1,3)}\")\n",
        "# print(f\"Accuracy: {round(accuracy,3)}\")\n",
        "\n",
        "# softmax_score = softmax(np.concatenate(test_predictions, axis=0), axis = 1)[:,1] #using scores only for positive class, regardless of label with higher score\n",
        "# auc = roc_auc_score(y_true = flat_test_true_labels, y_score = softmax_score) \n",
        "# print(f\"AUC: {round(auc,3)}\")\n",
        "\n",
        "new_predictions[\"raw_score_0\"] = np.concatenate(test_predictions, axis=0)[:,0]\n",
        "new_predictions[\"raw_score_1\"] = np.concatenate(test_predictions, axis=0)[:,1]\n",
        "new_predictions[\"predictions\"] = flat_test_predictions\n",
        "\n",
        "new_predictions[\"predictions\"] = flat_test_predictions\n",
        "\n",
        "new_predictions.to_csv(\"prediction_results/\"+OUTPUT_FNAME, encoding='utf-8-sig')"
      ],
      "metadata": {
        "id": "wKrHnYXVV5Y-"
      },
      "execution_count": null,
      "outputs": []
    },
    {
      "cell_type": "markdown",
      "metadata": {
        "id": "2j8ayOQ8cb0H"
      },
      "source": [
        "# END"
      ]
    }
  ],
  "metadata": {
    "accelerator": "GPU",
    "colab": {
      "name": "Covid_cable_End_to_end_BERT_classifier_policy.ipynb",
      "provenance": [],
      "include_colab_link": true
    },
    "kernelspec": {
      "display_name": "Python 3",
      "language": "python",
      "name": "python3"
    },
    "language_info": {
      "codemirror_mode": {
        "name": "ipython",
        "version": 3
      },
      "file_extension": ".py",
      "mimetype": "text/x-python",
      "name": "python",
      "nbconvert_exporter": "python",
      "pygments_lexer": "ipython3",
      "version": "3.8.8"
    },
    "widgets": {
      "application/vnd.jupyter.widget-state+json": {
        "09c73d16028e4027b9b1ca24dcdef7cd": {
          "model_module": "@jupyter-widgets/controls",
          "model_name": "FloatProgressModel",
          "state": {
            "_dom_classes": [],
            "_model_module": "@jupyter-widgets/controls",
            "_model_module_version": "1.5.0",
            "_model_name": "FloatProgressModel",
            "_view_count": null,
            "_view_module": "@jupyter-widgets/controls",
            "_view_module_version": "1.5.0",
            "_view_name": "ProgressView",
            "bar_style": "success",
            "description": "Downloading: 100%",
            "description_tooltip": null,
            "layout": "IPY_MODEL_dba37931a92d49d19889206c96703e6f",
            "max": 231508,
            "min": 0,
            "orientation": "horizontal",
            "style": "IPY_MODEL_7e9fd2ae432d4f2f81c57207b777fa40",
            "value": 231508
          },
          "model_module_version": "1.5.0"
        },
        "1a01ee8c4b704b8bbbb2e6b6c648e3c2": {
          "model_module": "@jupyter-widgets/base",
          "model_name": "LayoutModel",
          "state": {
            "_model_module": "@jupyter-widgets/base",
            "_model_module_version": "1.2.0",
            "_model_name": "LayoutModel",
            "_view_count": null,
            "_view_module": "@jupyter-widgets/base",
            "_view_module_version": "1.2.0",
            "_view_name": "LayoutView",
            "align_content": null,
            "align_items": null,
            "align_self": null,
            "border": null,
            "bottom": null,
            "display": null,
            "flex": null,
            "flex_flow": null,
            "grid_area": null,
            "grid_auto_columns": null,
            "grid_auto_flow": null,
            "grid_auto_rows": null,
            "grid_column": null,
            "grid_gap": null,
            "grid_row": null,
            "grid_template_areas": null,
            "grid_template_columns": null,
            "grid_template_rows": null,
            "height": null,
            "justify_content": null,
            "justify_items": null,
            "left": null,
            "margin": null,
            "max_height": null,
            "max_width": null,
            "min_height": null,
            "min_width": null,
            "object_fit": null,
            "object_position": null,
            "order": null,
            "overflow": null,
            "overflow_x": null,
            "overflow_y": null,
            "padding": null,
            "right": null,
            "top": null,
            "visibility": null,
            "width": null
          },
          "model_module_version": "1.2.0"
        },
        "1c8bd4aae7ee4ba8ae1764914faec0b3": {
          "model_module": "@jupyter-widgets/controls",
          "model_name": "FloatProgressModel",
          "state": {
            "_dom_classes": [],
            "_model_module": "@jupyter-widgets/controls",
            "_model_module_version": "1.5.0",
            "_model_name": "FloatProgressModel",
            "_view_count": null,
            "_view_module": "@jupyter-widgets/controls",
            "_view_module_version": "1.5.0",
            "_view_name": "ProgressView",
            "bar_style": "success",
            "description": "Downloading: 100%",
            "description_tooltip": null,
            "layout": "IPY_MODEL_3717eedbde6149529ac1b5d923a4a5bf",
            "max": 267967963,
            "min": 0,
            "orientation": "horizontal",
            "style": "IPY_MODEL_870bfdb2651e4cb9a4e8369cdd1b2127",
            "value": 267967963
          },
          "model_module_version": "1.5.0"
        },
        "2bca6056d0ed45008dd7f33dd8d6afc4": {
          "model_module": "@jupyter-widgets/base",
          "model_name": "LayoutModel",
          "state": {
            "_model_module": "@jupyter-widgets/base",
            "_model_module_version": "1.2.0",
            "_model_name": "LayoutModel",
            "_view_count": null,
            "_view_module": "@jupyter-widgets/base",
            "_view_module_version": "1.2.0",
            "_view_name": "LayoutView",
            "align_content": null,
            "align_items": null,
            "align_self": null,
            "border": null,
            "bottom": null,
            "display": null,
            "flex": null,
            "flex_flow": null,
            "grid_area": null,
            "grid_auto_columns": null,
            "grid_auto_flow": null,
            "grid_auto_rows": null,
            "grid_column": null,
            "grid_gap": null,
            "grid_row": null,
            "grid_template_areas": null,
            "grid_template_columns": null,
            "grid_template_rows": null,
            "height": null,
            "justify_content": null,
            "justify_items": null,
            "left": null,
            "margin": null,
            "max_height": null,
            "max_width": null,
            "min_height": null,
            "min_width": null,
            "object_fit": null,
            "object_position": null,
            "order": null,
            "overflow": null,
            "overflow_x": null,
            "overflow_y": null,
            "padding": null,
            "right": null,
            "top": null,
            "visibility": null,
            "width": null
          },
          "model_module_version": "1.2.0"
        },
        "3717eedbde6149529ac1b5d923a4a5bf": {
          "model_module": "@jupyter-widgets/base",
          "model_name": "LayoutModel",
          "state": {
            "_model_module": "@jupyter-widgets/base",
            "_model_module_version": "1.2.0",
            "_model_name": "LayoutModel",
            "_view_count": null,
            "_view_module": "@jupyter-widgets/base",
            "_view_module_version": "1.2.0",
            "_view_name": "LayoutView",
            "align_content": null,
            "align_items": null,
            "align_self": null,
            "border": null,
            "bottom": null,
            "display": null,
            "flex": null,
            "flex_flow": null,
            "grid_area": null,
            "grid_auto_columns": null,
            "grid_auto_flow": null,
            "grid_auto_rows": null,
            "grid_column": null,
            "grid_gap": null,
            "grid_row": null,
            "grid_template_areas": null,
            "grid_template_columns": null,
            "grid_template_rows": null,
            "height": null,
            "justify_content": null,
            "justify_items": null,
            "left": null,
            "margin": null,
            "max_height": null,
            "max_width": null,
            "min_height": null,
            "min_width": null,
            "object_fit": null,
            "object_position": null,
            "order": null,
            "overflow": null,
            "overflow_x": null,
            "overflow_y": null,
            "padding": null,
            "right": null,
            "top": null,
            "visibility": null,
            "width": null
          },
          "model_module_version": "1.2.0"
        },
        "40aefb4a98f6403783cb3f7f5822aa57": {
          "model_module": "@jupyter-widgets/controls",
          "model_name": "HTMLModel",
          "state": {
            "_dom_classes": [],
            "_model_module": "@jupyter-widgets/controls",
            "_model_module_version": "1.5.0",
            "_model_name": "HTMLModel",
            "_view_count": null,
            "_view_module": "@jupyter-widgets/controls",
            "_view_module_version": "1.5.0",
            "_view_name": "HTMLView",
            "description": "",
            "description_tooltip": null,
            "layout": "IPY_MODEL_731ff6d2b57b4bc7a457e91052d2c82f",
            "placeholder": "​",
            "style": "IPY_MODEL_d14ccb20a5634ba0b0a54d95e1b2ea7b",
            "value": " 442/442 [00:20&lt;00:00, 22.1B/s]"
          },
          "model_module_version": "1.5.0"
        },
        "4110b7f8ada24cbd9eab0fee819aa6fa": {
          "model_module": "@jupyter-widgets/base",
          "model_name": "LayoutModel",
          "state": {
            "_model_module": "@jupyter-widgets/base",
            "_model_module_version": "1.2.0",
            "_model_name": "LayoutModel",
            "_view_count": null,
            "_view_module": "@jupyter-widgets/base",
            "_view_module_version": "1.2.0",
            "_view_name": "LayoutView",
            "align_content": null,
            "align_items": null,
            "align_self": null,
            "border": null,
            "bottom": null,
            "display": null,
            "flex": null,
            "flex_flow": null,
            "grid_area": null,
            "grid_auto_columns": null,
            "grid_auto_flow": null,
            "grid_auto_rows": null,
            "grid_column": null,
            "grid_gap": null,
            "grid_row": null,
            "grid_template_areas": null,
            "grid_template_columns": null,
            "grid_template_rows": null,
            "height": null,
            "justify_content": null,
            "justify_items": null,
            "left": null,
            "margin": null,
            "max_height": null,
            "max_width": null,
            "min_height": null,
            "min_width": null,
            "object_fit": null,
            "object_position": null,
            "order": null,
            "overflow": null,
            "overflow_x": null,
            "overflow_y": null,
            "padding": null,
            "right": null,
            "top": null,
            "visibility": null,
            "width": null
          },
          "model_module_version": "1.2.0"
        },
        "61432a50221646d5975162f8ca3d1aa8": {
          "model_module": "@jupyter-widgets/controls",
          "model_name": "HBoxModel",
          "state": {
            "_dom_classes": [],
            "_model_module": "@jupyter-widgets/controls",
            "_model_module_version": "1.5.0",
            "_model_name": "HBoxModel",
            "_view_count": null,
            "_view_module": "@jupyter-widgets/controls",
            "_view_module_version": "1.5.0",
            "_view_name": "HBoxView",
            "box_style": "",
            "children": [
              "IPY_MODEL_1c8bd4aae7ee4ba8ae1764914faec0b3",
              "IPY_MODEL_6fde4b7ae1044bb4b51b4f2382af934d"
            ],
            "layout": "IPY_MODEL_1a01ee8c4b704b8bbbb2e6b6c648e3c2"
          },
          "model_module_version": "1.5.0"
        },
        "6959ec5c262a4527b95d6ae2b6607dff": {
          "model_module": "@jupyter-widgets/controls",
          "model_name": "DescriptionStyleModel",
          "state": {
            "_model_module": "@jupyter-widgets/controls",
            "_model_module_version": "1.5.0",
            "_model_name": "DescriptionStyleModel",
            "_view_count": null,
            "_view_module": "@jupyter-widgets/base",
            "_view_module_version": "1.2.0",
            "_view_name": "StyleView",
            "description_width": ""
          },
          "model_module_version": "1.5.0"
        },
        "6fde4b7ae1044bb4b51b4f2382af934d": {
          "model_module": "@jupyter-widgets/controls",
          "model_name": "HTMLModel",
          "state": {
            "_dom_classes": [],
            "_model_module": "@jupyter-widgets/controls",
            "_model_module_version": "1.5.0",
            "_model_name": "HTMLModel",
            "_view_count": null,
            "_view_module": "@jupyter-widgets/controls",
            "_view_module_version": "1.5.0",
            "_view_name": "HTMLView",
            "description": "",
            "description_tooltip": null,
            "layout": "IPY_MODEL_9216f378189647e6be97ef5521c29902",
            "placeholder": "​",
            "style": "IPY_MODEL_6959ec5c262a4527b95d6ae2b6607dff",
            "value": " 268M/268M [00:04&lt;00:00, 66.6MB/s]"
          },
          "model_module_version": "1.5.0"
        },
        "731ff6d2b57b4bc7a457e91052d2c82f": {
          "model_module": "@jupyter-widgets/base",
          "model_name": "LayoutModel",
          "state": {
            "_model_module": "@jupyter-widgets/base",
            "_model_module_version": "1.2.0",
            "_model_name": "LayoutModel",
            "_view_count": null,
            "_view_module": "@jupyter-widgets/base",
            "_view_module_version": "1.2.0",
            "_view_name": "LayoutView",
            "align_content": null,
            "align_items": null,
            "align_self": null,
            "border": null,
            "bottom": null,
            "display": null,
            "flex": null,
            "flex_flow": null,
            "grid_area": null,
            "grid_auto_columns": null,
            "grid_auto_flow": null,
            "grid_auto_rows": null,
            "grid_column": null,
            "grid_gap": null,
            "grid_row": null,
            "grid_template_areas": null,
            "grid_template_columns": null,
            "grid_template_rows": null,
            "height": null,
            "justify_content": null,
            "justify_items": null,
            "left": null,
            "margin": null,
            "max_height": null,
            "max_width": null,
            "min_height": null,
            "min_width": null,
            "object_fit": null,
            "object_position": null,
            "order": null,
            "overflow": null,
            "overflow_x": null,
            "overflow_y": null,
            "padding": null,
            "right": null,
            "top": null,
            "visibility": null,
            "width": null
          },
          "model_module_version": "1.2.0"
        },
        "7e9fd2ae432d4f2f81c57207b777fa40": {
          "model_module": "@jupyter-widgets/controls",
          "model_name": "ProgressStyleModel",
          "state": {
            "_model_module": "@jupyter-widgets/controls",
            "_model_module_version": "1.5.0",
            "_model_name": "ProgressStyleModel",
            "_view_count": null,
            "_view_module": "@jupyter-widgets/base",
            "_view_module_version": "1.2.0",
            "_view_name": "StyleView",
            "bar_color": null,
            "description_width": "initial"
          },
          "model_module_version": "1.5.0"
        },
        "870bfdb2651e4cb9a4e8369cdd1b2127": {
          "model_module": "@jupyter-widgets/controls",
          "model_name": "ProgressStyleModel",
          "state": {
            "_model_module": "@jupyter-widgets/controls",
            "_model_module_version": "1.5.0",
            "_model_name": "ProgressStyleModel",
            "_view_count": null,
            "_view_module": "@jupyter-widgets/base",
            "_view_module_version": "1.2.0",
            "_view_name": "StyleView",
            "bar_color": null,
            "description_width": "initial"
          },
          "model_module_version": "1.5.0"
        },
        "9216f378189647e6be97ef5521c29902": {
          "model_module": "@jupyter-widgets/base",
          "model_name": "LayoutModel",
          "state": {
            "_model_module": "@jupyter-widgets/base",
            "_model_module_version": "1.2.0",
            "_model_name": "LayoutModel",
            "_view_count": null,
            "_view_module": "@jupyter-widgets/base",
            "_view_module_version": "1.2.0",
            "_view_name": "LayoutView",
            "align_content": null,
            "align_items": null,
            "align_self": null,
            "border": null,
            "bottom": null,
            "display": null,
            "flex": null,
            "flex_flow": null,
            "grid_area": null,
            "grid_auto_columns": null,
            "grid_auto_flow": null,
            "grid_auto_rows": null,
            "grid_column": null,
            "grid_gap": null,
            "grid_row": null,
            "grid_template_areas": null,
            "grid_template_columns": null,
            "grid_template_rows": null,
            "height": null,
            "justify_content": null,
            "justify_items": null,
            "left": null,
            "margin": null,
            "max_height": null,
            "max_width": null,
            "min_height": null,
            "min_width": null,
            "object_fit": null,
            "object_position": null,
            "order": null,
            "overflow": null,
            "overflow_x": null,
            "overflow_y": null,
            "padding": null,
            "right": null,
            "top": null,
            "visibility": null,
            "width": null
          },
          "model_module_version": "1.2.0"
        },
        "a55b36fa8db24acc9e36ac41f56d35ea": {
          "model_module": "@jupyter-widgets/controls",
          "model_name": "HBoxModel",
          "state": {
            "_dom_classes": [],
            "_model_module": "@jupyter-widgets/controls",
            "_model_module_version": "1.5.0",
            "_model_name": "HBoxModel",
            "_view_count": null,
            "_view_module": "@jupyter-widgets/controls",
            "_view_module_version": "1.5.0",
            "_view_name": "HBoxView",
            "box_style": "",
            "children": [
              "IPY_MODEL_09c73d16028e4027b9b1ca24dcdef7cd",
              "IPY_MODEL_b2e80377bbc7430ca6118fd1132bacae"
            ],
            "layout": "IPY_MODEL_4110b7f8ada24cbd9eab0fee819aa6fa"
          },
          "model_module_version": "1.5.0"
        },
        "b0abafdb37744e44b9a120eb9e5640cd": {
          "model_module": "@jupyter-widgets/controls",
          "model_name": "FloatProgressModel",
          "state": {
            "_dom_classes": [],
            "_model_module": "@jupyter-widgets/controls",
            "_model_module_version": "1.5.0",
            "_model_name": "FloatProgressModel",
            "_view_count": null,
            "_view_module": "@jupyter-widgets/controls",
            "_view_module_version": "1.5.0",
            "_view_name": "ProgressView",
            "bar_style": "success",
            "description": "Downloading: 100%",
            "description_tooltip": null,
            "layout": "IPY_MODEL_e3ea00cd4b3743e5b7804e6eabfac6da",
            "max": 442,
            "min": 0,
            "orientation": "horizontal",
            "style": "IPY_MODEL_f946887679c14cbdaeab3dac05573368",
            "value": 442
          },
          "model_module_version": "1.5.0"
        },
        "b2e80377bbc7430ca6118fd1132bacae": {
          "model_module": "@jupyter-widgets/controls",
          "model_name": "HTMLModel",
          "state": {
            "_dom_classes": [],
            "_model_module": "@jupyter-widgets/controls",
            "_model_module_version": "1.5.0",
            "_model_name": "HTMLModel",
            "_view_count": null,
            "_view_module": "@jupyter-widgets/controls",
            "_view_module_version": "1.5.0",
            "_view_name": "HTMLView",
            "description": "",
            "description_tooltip": null,
            "layout": "IPY_MODEL_2bca6056d0ed45008dd7f33dd8d6afc4",
            "placeholder": "​",
            "style": "IPY_MODEL_ef1f560aaa9a47fbb1b19d96a8932e6a",
            "value": " 232k/232k [00:00&lt;00:00, 624kB/s]"
          },
          "model_module_version": "1.5.0"
        },
        "d14ccb20a5634ba0b0a54d95e1b2ea7b": {
          "model_module": "@jupyter-widgets/controls",
          "model_name": "DescriptionStyleModel",
          "state": {
            "_model_module": "@jupyter-widgets/controls",
            "_model_module_version": "1.5.0",
            "_model_name": "DescriptionStyleModel",
            "_view_count": null,
            "_view_module": "@jupyter-widgets/base",
            "_view_module_version": "1.2.0",
            "_view_name": "StyleView",
            "description_width": ""
          },
          "model_module_version": "1.5.0"
        },
        "d97cec79459b4660842914f689f90320": {
          "model_module": "@jupyter-widgets/controls",
          "model_name": "HBoxModel",
          "state": {
            "_dom_classes": [],
            "_model_module": "@jupyter-widgets/controls",
            "_model_module_version": "1.5.0",
            "_model_name": "HBoxModel",
            "_view_count": null,
            "_view_module": "@jupyter-widgets/controls",
            "_view_module_version": "1.5.0",
            "_view_name": "HBoxView",
            "box_style": "",
            "children": [
              "IPY_MODEL_b0abafdb37744e44b9a120eb9e5640cd",
              "IPY_MODEL_40aefb4a98f6403783cb3f7f5822aa57"
            ],
            "layout": "IPY_MODEL_f45226822e9c4d019e760e93a82682b3"
          },
          "model_module_version": "1.5.0"
        },
        "dba37931a92d49d19889206c96703e6f": {
          "model_module": "@jupyter-widgets/base",
          "model_name": "LayoutModel",
          "state": {
            "_model_module": "@jupyter-widgets/base",
            "_model_module_version": "1.2.0",
            "_model_name": "LayoutModel",
            "_view_count": null,
            "_view_module": "@jupyter-widgets/base",
            "_view_module_version": "1.2.0",
            "_view_name": "LayoutView",
            "align_content": null,
            "align_items": null,
            "align_self": null,
            "border": null,
            "bottom": null,
            "display": null,
            "flex": null,
            "flex_flow": null,
            "grid_area": null,
            "grid_auto_columns": null,
            "grid_auto_flow": null,
            "grid_auto_rows": null,
            "grid_column": null,
            "grid_gap": null,
            "grid_row": null,
            "grid_template_areas": null,
            "grid_template_columns": null,
            "grid_template_rows": null,
            "height": null,
            "justify_content": null,
            "justify_items": null,
            "left": null,
            "margin": null,
            "max_height": null,
            "max_width": null,
            "min_height": null,
            "min_width": null,
            "object_fit": null,
            "object_position": null,
            "order": null,
            "overflow": null,
            "overflow_x": null,
            "overflow_y": null,
            "padding": null,
            "right": null,
            "top": null,
            "visibility": null,
            "width": null
          },
          "model_module_version": "1.2.0"
        },
        "e3ea00cd4b3743e5b7804e6eabfac6da": {
          "model_module": "@jupyter-widgets/base",
          "model_name": "LayoutModel",
          "state": {
            "_model_module": "@jupyter-widgets/base",
            "_model_module_version": "1.2.0",
            "_model_name": "LayoutModel",
            "_view_count": null,
            "_view_module": "@jupyter-widgets/base",
            "_view_module_version": "1.2.0",
            "_view_name": "LayoutView",
            "align_content": null,
            "align_items": null,
            "align_self": null,
            "border": null,
            "bottom": null,
            "display": null,
            "flex": null,
            "flex_flow": null,
            "grid_area": null,
            "grid_auto_columns": null,
            "grid_auto_flow": null,
            "grid_auto_rows": null,
            "grid_column": null,
            "grid_gap": null,
            "grid_row": null,
            "grid_template_areas": null,
            "grid_template_columns": null,
            "grid_template_rows": null,
            "height": null,
            "justify_content": null,
            "justify_items": null,
            "left": null,
            "margin": null,
            "max_height": null,
            "max_width": null,
            "min_height": null,
            "min_width": null,
            "object_fit": null,
            "object_position": null,
            "order": null,
            "overflow": null,
            "overflow_x": null,
            "overflow_y": null,
            "padding": null,
            "right": null,
            "top": null,
            "visibility": null,
            "width": null
          },
          "model_module_version": "1.2.0"
        },
        "ef1f560aaa9a47fbb1b19d96a8932e6a": {
          "model_module": "@jupyter-widgets/controls",
          "model_name": "DescriptionStyleModel",
          "state": {
            "_model_module": "@jupyter-widgets/controls",
            "_model_module_version": "1.5.0",
            "_model_name": "DescriptionStyleModel",
            "_view_count": null,
            "_view_module": "@jupyter-widgets/base",
            "_view_module_version": "1.2.0",
            "_view_name": "StyleView",
            "description_width": ""
          },
          "model_module_version": "1.5.0"
        },
        "f45226822e9c4d019e760e93a82682b3": {
          "model_module": "@jupyter-widgets/base",
          "model_name": "LayoutModel",
          "state": {
            "_model_module": "@jupyter-widgets/base",
            "_model_module_version": "1.2.0",
            "_model_name": "LayoutModel",
            "_view_count": null,
            "_view_module": "@jupyter-widgets/base",
            "_view_module_version": "1.2.0",
            "_view_name": "LayoutView",
            "align_content": null,
            "align_items": null,
            "align_self": null,
            "border": null,
            "bottom": null,
            "display": null,
            "flex": null,
            "flex_flow": null,
            "grid_area": null,
            "grid_auto_columns": null,
            "grid_auto_flow": null,
            "grid_auto_rows": null,
            "grid_column": null,
            "grid_gap": null,
            "grid_row": null,
            "grid_template_areas": null,
            "grid_template_columns": null,
            "grid_template_rows": null,
            "height": null,
            "justify_content": null,
            "justify_items": null,
            "left": null,
            "margin": null,
            "max_height": null,
            "max_width": null,
            "min_height": null,
            "min_width": null,
            "object_fit": null,
            "object_position": null,
            "order": null,
            "overflow": null,
            "overflow_x": null,
            "overflow_y": null,
            "padding": null,
            "right": null,
            "top": null,
            "visibility": null,
            "width": null
          },
          "model_module_version": "1.2.0"
        },
        "f946887679c14cbdaeab3dac05573368": {
          "model_module": "@jupyter-widgets/controls",
          "model_name": "ProgressStyleModel",
          "state": {
            "_model_module": "@jupyter-widgets/controls",
            "_model_module_version": "1.5.0",
            "_model_name": "ProgressStyleModel",
            "_view_count": null,
            "_view_module": "@jupyter-widgets/base",
            "_view_module_version": "1.2.0",
            "_view_name": "StyleView",
            "bar_color": null,
            "description_width": "initial"
          },
          "model_module_version": "1.5.0"
        }
      }
    }
  },
  "nbformat": 4,
  "nbformat_minor": 0
}